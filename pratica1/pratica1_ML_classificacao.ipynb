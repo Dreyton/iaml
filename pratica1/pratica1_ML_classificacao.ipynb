{
  "nbformat": 4,
  "nbformat_minor": 0,
  "metadata": {
    "colab": {
      "provenance": [],
      "authorship_tag": "ABX9TyN3d/usPcMhEgp+WVh7kHCJ",
      "include_colab_link": true
    },
    "kernelspec": {
      "name": "python3",
      "display_name": "Python 3"
    },
    "language_info": {
      "name": "python"
    }
  },
  "cells": [
    {
      "cell_type": "markdown",
      "metadata": {
        "id": "view-in-github",
        "colab_type": "text"
      },
      "source": [
        "<a href=\"https://colab.research.google.com/github/Dreyton/iaml/blob/main/pratica1_ML_classificacao.ipynb\" target=\"_parent\"><img src=\"https://colab.research.google.com/assets/colab-badge.svg\" alt=\"Open In Colab\"/></a>"
      ]
    },
    {
      "cell_type": "markdown",
      "source": [
        "# **Framework Scikit-Learn**"
      ],
      "metadata": {
        "id": "Ag5r2rye-Ci-"
      }
    },
    {
      "cell_type": "markdown",
      "source": [
        "[scikit-learng](https://scikit-learn.org/stable/)"
      ],
      "metadata": {
        "id": "FCgXrivzsLbN"
      }
    },
    {
      "cell_type": "markdown",
      "source": [
        "# **Bases de dados do Sckiti-Learn**"
      ],
      "metadata": {
        "id": "72ju8HFc-MvY"
      }
    },
    {
      "cell_type": "markdown",
      "source": [
        "[Base de dados do próprio framework](https://scikit-learn.org/stable/modules/classes.html#module-sklearn.datasets)"
      ],
      "metadata": {
        "id": "sbjxi-lSsl21"
      }
    },
    {
      "cell_type": "code",
      "source": [
        "#ex. iris\n",
        "from sklearn.datasets import load_iris\n",
        "\n",
        "X, y = load_iris(return_X_y=True, as_frame=True)\n",
        "\n",
        "X"
      ],
      "metadata": {
        "id": "Ac9ekmHU-NSh"
      },
      "execution_count": null,
      "outputs": []
    },
    {
      "cell_type": "code",
      "source": [
        "y"
      ],
      "metadata": {
        "id": "Z4FQZ8gotXnT"
      },
      "execution_count": null,
      "outputs": []
    },
    {
      "cell_type": "code",
      "source": [
        "#visualizacao dos dados em 2-D (aula de graficos)\n",
        "import matplotlib.pyplot as plt\n",
        "\n",
        "fig = plt.figure(figsize=(10,6))\n",
        "eixo = fig.add_axes([0,0,1,1])\n",
        "\n",
        "cores = {0: 'r', 1: 'b', 2: 'g'} #dicionario chave:valor, chave:valor, ...\n",
        "\n",
        "for especie in y.unique():\n",
        "    tmp = X[y == especie] #selecionar quais instancias/registro sao daquela especie\n",
        "    eixo.scatter(tmp['sepal length (cm)'], tmp['sepal width (cm)'],\n",
        "                 color=cores[especie]) #plota os dados daquela especie\n",
        "\n",
        "eixo.set_title('Gráfico de dispersão', fontsize=25, pad=15)\n",
        "eixo.set_xlabel('Comprimento da sépala', fontsize=15)\n",
        "eixo.set_ylabel('Largura da sépala', fontsize=15)\n",
        "eixo.tick_params(labelsize=15)\n",
        "eixo.legend(['Iris-setosa', 'Iris-versicolor', 'Iris-virginica'], fontsize=20)"
      ],
      "metadata": {
        "id": "TANJ7EDHYMb7"
      },
      "execution_count": null,
      "outputs": []
    },
    {
      "cell_type": "markdown",
      "source": [
        "# **k-nn (treino, teste e avaliação)**"
      ],
      "metadata": {
        "id": "ciRwERvX-YTb"
      }
    },
    {
      "cell_type": "markdown",
      "source": [
        "[Documentação do k-nn](https://scikit-learn.org/stable/modules/generated/sklearn.neighbors.KNeighborsClassifier.html#sklearn.neighbors.KNeighborsClassifier)"
      ],
      "metadata": {
        "id": "9wniH5SyU8xf"
      }
    },
    {
      "cell_type": "markdown",
      "source": [
        "[Documentação das métricas](https://scikit-learn.org/stable/modules/model_evaluation.html#model-evaluation)"
      ],
      "metadata": {
        "id": "_prZPfm4VK9C"
      }
    },
    {
      "cell_type": "code",
      "source": [
        "from sklearn.datasets import load_iris\n",
        "from sklearn.neighbors import KNeighborsClassifier\n",
        "from sklearn.model_selection import train_test_split\n",
        "from sklearn.metrics import accuracy_score\n",
        "from sklearn.metrics import precision_score\n",
        "from sklearn.metrics import recall_score\n",
        "from sklearn.metrics import f1_score\n",
        "from sklearn.metrics import confusion_matrix\n",
        "\n",
        "X, y = load_iris(return_X_y=True, as_frame=True)\n",
        "\n",
        "Xtr, Xte, ytr, yte = train_test_split(X, y, test_size=0.3, random_state=1)\n",
        "\n",
        "knn = KNeighborsClassifier()\n",
        "\n",
        "knn.fit(Xtr, ytr) #treino\n",
        "\n",
        "yte_pred = knn.predict(Xte) #teste\n",
        "\n",
        "print(accuracy_score(yte, yte_pred))\n",
        "print(precision_score(yte, yte_pred, average='macro'))\n",
        "print(recall_score(yte, yte_pred, average='macro'))\n",
        "print(f1_score(yte, yte_pred, average='macro'))\n",
        "print(confusion_matrix(yte, yte_pred))"
      ],
      "metadata": {
        "id": "mUrm1-JZ-SRD"
      },
      "execution_count": null,
      "outputs": []
    },
    {
      "cell_type": "code",
      "source": [
        "#visualizacao da matriz de confusao\n",
        "from sklearn.metrics import ConfusionMatrixDisplay\n",
        "\n",
        "cm = confusion_matrix(yte, yte_pred)\n",
        "disp = ConfusionMatrixDisplay(confusion_matrix=cm, display_labels=knn.classes_)\n",
        "disp.plot()"
      ],
      "metadata": {
        "id": "v9WOD5SSWvmO"
      },
      "execution_count": null,
      "outputs": []
    },
    {
      "cell_type": "code",
      "source": [
        "#relatorio de classificacao\n",
        "\n",
        "from sklearn.metrics import classification_report\n",
        "\n",
        "\n",
        "dados = load_iris()\n",
        "\n",
        "target_names = dados['target_names']\n",
        "\n",
        "print(classification_report(yte, yte_pred, target_names=target_names))"
      ],
      "metadata": {
        "id": "OomZl_pPXWRE"
      },
      "execution_count": null,
      "outputs": []
    },
    {
      "cell_type": "markdown",
      "source": [
        "# **Árvore de decisão (treino, teste e avaliação)**"
      ],
      "metadata": {
        "id": "yNViEu9g3pBM"
      }
    },
    {
      "cell_type": "markdown",
      "source": [
        "[Documentação da árvore de decisão](https://scikit-learn.org/stable/modules/generated/sklearn.tree.DecisionTreeClassifier.html#sklearn.tree.DecisionTreeClassifier)"
      ],
      "metadata": {
        "id": "3Yf9a1vK3pB5"
      }
    },
    {
      "cell_type": "markdown",
      "source": [
        "**Exercícios: Realizar treino/teste com a árvore de decisão na base de dados iris, avaliando o desempenho do algoritmo de acordo com acurácia, precisão, recall, f1-score e matriz de confusão.**"
      ],
      "metadata": {
        "id": "rJmbh9YD3pB6"
      }
    },
    {
      "cell_type": "code",
      "source": [
        "from sklearn.datasets import load_iris\n",
        "from sklearn.model_selection import train_test_split\n",
        "from sklearn.metrics import accuracy_score\n",
        "from sklearn.metrics import precision_score\n",
        "from sklearn.metrics import recall_score\n",
        "from sklearn.metrics import f1_score\n",
        "from sklearn.metrics import confusion_matrix\n",
        "\n",
        "\n",
        "X, y = load_iris(return_X_y=True, as_frame=True)\n",
        "\n",
        "Xtr, Xte, ytr, yte = train_test_split(X, y, test_size=0.3, random_state=1)\n",
        "\n"
      ],
      "metadata": {
        "id": "pYLZklCc3pB6"
      },
      "execution_count": null,
      "outputs": []
    },
    {
      "cell_type": "markdown",
      "source": [
        "**Desempenho no treino**"
      ],
      "metadata": {
        "id": "fIg5LWR13pB6"
      }
    },
    {
      "cell_type": "code",
      "source": [
        "#relatorio de classicacao\n",
        "from sklearn.tree import DecisionTreeClassifier\n",
        "\n",
        "model = DecisionTreeClassifier()\n",
        "model.fit(Xtr, ytr) #treino\n",
        "yte_pred = model.predict(Xte)\n",
        "ytr_pred = model.predict(Xtr)\n",
        "\n",
        "dados = load_iris()\n",
        "\n",
        "target_names = dados['target_names']\n",
        "\n",
        "print(classification_report(ytr, ytr_pred, target_names=target_names))"
      ],
      "metadata": {
        "colab": {
          "base_uri": "https://localhost:8080/"
        },
        "outputId": "39ffb88e-726f-4212-c0e3-fc095732844e",
        "id": "Jkk7bdw93pB6"
      },
      "execution_count": null,
      "outputs": [
        {
          "output_type": "stream",
          "name": "stdout",
          "text": [
            "              precision    recall  f1-score   support\n",
            "\n",
            "      setosa       1.00      1.00      1.00        36\n",
            "  versicolor       1.00      1.00      1.00        32\n",
            "   virginica       1.00      1.00      1.00        37\n",
            "\n",
            "    accuracy                           1.00       105\n",
            "   macro avg       1.00      1.00      1.00       105\n",
            "weighted avg       1.00      1.00      1.00       105\n",
            "\n"
          ]
        }
      ]
    },
    {
      "cell_type": "code",
      "source": [
        "#matriz de confusao\n",
        "from sklearn.metrics import ConfusionMatrixDisplay\n",
        "\n",
        "cm = confusion_matrix(ytr, ytr_pred)\n",
        "disp = ConfusionMatrixDisplay(confusion_matrix=cm, display_labels=model.classes_)\n",
        "disp.plot()"
      ],
      "metadata": {
        "colab": {
          "base_uri": "https://localhost:8080/",
          "height": 466
        },
        "outputId": "9fdf2580-ae26-4e18-fc68-9b4e433209e2",
        "id": "RTnSpKZ_3pB7"
      },
      "execution_count": null,
      "outputs": [
        {
          "output_type": "execute_result",
          "data": {
            "text/plain": [
              "<sklearn.metrics._plot.confusion_matrix.ConfusionMatrixDisplay at 0x79932d606dd0>"
            ]
          },
          "metadata": {},
          "execution_count": 9
        },
        {
          "output_type": "display_data",
          "data": {
            "text/plain": [
              "<Figure size 640x480 with 2 Axes>"
            ],
            "image/png": "[encoded data removed]"
          },
          "metadata": {}
        }
      ]
    },
    {
      "cell_type": "markdown",
      "source": [
        "**Desempenho no teste**"
      ],
      "metadata": {
        "id": "R-ZkdiaI3pB7"
      }
    },
    {
      "cell_type": "code",
      "source": [
        "from sklearn.metrics import classification_report\n",
        "\n",
        "dados = load_iris()\n",
        "\n",
        "target_names = dados['target_names']\n",
        "\n",
        "print(classification_report(yte, yte_pred, target_names=target_names))"
      ],
      "metadata": {
        "colab": {
          "base_uri": "https://localhost:8080/"
        },
        "outputId": "897c3196-2136-4e79-e025-0db20ce62518",
        "id": "GGuew34j3pB7"
      },
      "execution_count": null,
      "outputs": [
        {
          "output_type": "stream",
          "name": "stdout",
          "text": [
            "              precision    recall  f1-score   support\n",
            "\n",
            "      setosa       1.00      1.00      1.00        14\n",
            "  versicolor       0.94      0.94      0.94        18\n",
            "   virginica       0.92      0.92      0.92        13\n",
            "\n",
            "    accuracy                           0.96        45\n",
            "   macro avg       0.96      0.96      0.96        45\n",
            "weighted avg       0.96      0.96      0.96        45\n",
            "\n"
          ]
        }
      ]
    },
    {
      "cell_type": "code",
      "source": [
        "from sklearn.metrics import ConfusionMatrixDisplay\n",
        "\n",
        "cm = confusion_matrix(yte, yte_pred)\n",
        "disp = ConfusionMatrixDisplay(confusion_matrix=cm, display_labels=model.classes_)\n",
        "disp.plot()"
      ],
      "metadata": {
        "colab": {
          "base_uri": "https://localhost:8080/",
          "height": 466
        },
        "outputId": "77a75114-0e80-47de-d7fa-e712ba9b8f4a",
        "id": "xMf5Cm4Y3pB8"
      },
      "execution_count": null,
      "outputs": [
        {
          "output_type": "execute_result",
          "data": {
            "text/plain": [
              "<sklearn.metrics._plot.confusion_matrix.ConfusionMatrixDisplay at 0x79932d2a4eb0>"
            ]
          },
          "metadata": {},
          "execution_count": 10
        },
        {
          "output_type": "display_data",
          "data": {
            "text/plain": [
              "<Figure size 640x480 with 2 Axes>"
            ],
            "image/png": "[encoded data removed]"
          },
          "metadata": {}
        }
      ]
    },
    {
      "cell_type": "markdown",
      "source": [
        "# **Tarefa 2: SGD (treino, teste, modificação de hiper-parâmetros e avaliação)**"
      ],
      "metadata": {
        "id": "LP_RJu2yb_Ay"
      }
    },
    {
      "cell_type": "markdown",
      "source": [
        "[Documentação SGD](https://scikit-learn.org/stable/modules/generated/sklearn.linear_model.SGDClassifier.html#sklearn.linear_model.SGDClassifier)"
      ],
      "metadata": {
        "id": "JRnPbZOocQaY"
      }
    },
    {
      "cell_type": "markdown",
      "source": [
        "**Exercícios: Realizar treino/teste com o SGD na base de dados iris, avaliando o desempenho do algoritmo de acordo com acurácia, precisão, recall, f1-score e matriz de confusão. Variar alguns dos hiper-parâmetros e analisar os resultados obtidos**"
      ],
      "metadata": {
        "id": "WMeL7tdfcaOi"
      }
    },
    {
      "cell_type": "code",
      "source": [
        "from sklearn.datasets import load_iris\n",
        "from sklearn.model_selection import train_test_split\n",
        "from sklearn.metrics import accuracy_score\n",
        "from sklearn.metrics import precision_score\n",
        "from sklearn.metrics import recall_score\n",
        "from sklearn.metrics import f1_score\n",
        "from sklearn.metrics import confusion_matrix\n",
        "#importar o classificador aqui\n",
        "\n",
        "X, y = load_iris(return_X_y=True, as_frame=True)\n",
        "\n",
        "Xtr, Xte, ytr, yte = train_test_split(X, y, test_size=0.3, random_state=1)\n",
        "\n",
        "#cria o classicador\n",
        "\n",
        "#treina\n",
        "\n",
        "#testa\n"
      ],
      "metadata": {
        "id": "A3M7bdmecK0y"
      },
      "execution_count": null,
      "outputs": []
    },
    {
      "cell_type": "markdown",
      "source": [
        "**Desempenho no treino**"
      ],
      "metadata": {
        "id": "P7MUh8P2daJo"
      }
    },
    {
      "cell_type": "code",
      "source": [
        "#relatorio de classicacao\n"
      ],
      "metadata": {
        "id": "GjOAOYkDdd0K"
      },
      "execution_count": null,
      "outputs": []
    },
    {
      "cell_type": "code",
      "source": [
        "#matriz de confusao\n"
      ],
      "metadata": {
        "id": "gxjC3lUAdeOW"
      },
      "execution_count": null,
      "outputs": []
    },
    {
      "cell_type": "markdown",
      "source": [
        "**Desempenho no teste**"
      ],
      "metadata": {
        "id": "JRFjQufhde-r"
      }
    },
    {
      "cell_type": "code",
      "source": [
        "#relatorio de classicacao\n"
      ],
      "metadata": {
        "id": "x-uHNKhCdg-8"
      },
      "execution_count": null,
      "outputs": []
    },
    {
      "cell_type": "code",
      "source": [
        "#matriz de confusao\n"
      ],
      "metadata": {
        "id": "eb8xCISfdhfI"
      },
      "execution_count": null,
      "outputs": []
    },
    {
      "cell_type": "markdown",
      "source": [
        "**Desempenho no teste - Variando os parâmetros**"
      ],
      "metadata": {
        "id": "XVlGR_uUdiNF"
      }
    },
    {
      "cell_type": "code",
      "source": [
        "#cria o classicador variando os parametros\n",
        "\n",
        "#treina\n",
        "\n",
        "#testa"
      ],
      "metadata": {
        "id": "owa7UgHKdpJR"
      },
      "execution_count": null,
      "outputs": []
    },
    {
      "cell_type": "code",
      "source": [
        "#relatorio de classicacao\n"
      ],
      "metadata": {
        "id": "zX-AiPA8dpWL"
      },
      "execution_count": null,
      "outputs": []
    },
    {
      "cell_type": "code",
      "source": [
        "#matriz de confusao\n"
      ],
      "metadata": {
        "id": "NjPcgaZQdp5W"
      },
      "execution_count": null,
      "outputs": []
    },
    {
      "cell_type": "markdown",
      "source": [
        "**Conclusões**: Escrever aqui..."
      ],
      "metadata": {
        "id": "HGXl9qHeeaNN"
      }
    }
  ]
}