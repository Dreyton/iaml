{
  "nbformat": 4,
  "nbformat_minor": 0,
  "metadata": {
    "colab": {
      "provenance": []
    },
    "kernelspec": {
      "name": "python3",
      "display_name": "Python 3"
    },
    "language_info": {
      "name": "python"
    },
    "accelerator": "GPU",
    "gpuClass": "standard"
  },
  "cells": [
    {
      "cell_type": "markdown",
      "source": [
        "# **Framework Scikit-Learn**"
      ],
      "metadata": {
        "id": "Ag5r2rye-Ci-"
      }
    },
    {
      "cell_type": "markdown",
      "source": [
        "[scikit-learng](https://scikit-learn.org/stable/)"
      ],
      "metadata": {
        "id": "FCgXrivzsLbN"
      }
    },
    {
      "cell_type": "markdown",
      "source": [
        "# **MLP (treino, teste e avaliação)**"
      ],
      "metadata": {
        "id": "ciRwERvX-YTb"
      }
    },
    {
      "cell_type": "markdown",
      "source": [
        "[Documentação MLP](https://scikit-learn.org/stable/modules/generated/sklearn.neural_network.MLPClassifier.html#sklearn.neural_network.MLPClassifier)"
      ],
      "metadata": {
        "id": "9wniH5SyU8xf"
      }
    },
    {
      "cell_type": "markdown",
      "source": [
        "[Documentação breas cancer dataset](https://scikit-learn.org/stable/modules/generated/sklearn.datasets.load_breast_cancer.html#sklearn.datasets.load_breast_cancer)"
      ],
      "metadata": {
        "id": "_prZPfm4VK9C"
      }
    },
    {
      "cell_type": "code",
      "source": [
        "from sklearn.datasets import load_breast_cancer\n",
        "from sklearn.neural_network import MLPClassifier\n",
        "from sklearn.model_selection import train_test_split\n",
        "from sklearn.metrics import accuracy_score\n",
        "from sklearn.metrics import precision_score\n",
        "from sklearn.metrics import recall_score\n",
        "from sklearn.metrics import f1_score\n",
        "from sklearn.metrics import confusion_matrix\n",
        "\n",
        "X, y = load_breast_cancer(return_X_y=True, as_frame=True)\n",
        "\n",
        "Xtr, Xte, ytr, yte = train_test_split(X, y, test_size=0.3, random_state=1)\n",
        "\n",
        "mlp = MLPClassifier()\n",
        "\n",
        "mlp.fit(Xtr, ytr) #treino\n",
        "\n",
        "yte_pred = mlp.predict(Xte) #teste\n",
        "\n",
        "print(accuracy_score(yte, yte_pred))\n",
        "print(precision_score(yte, yte_pred, average='macro'))\n",
        "print(recall_score(yte, yte_pred, average='macro'))\n",
        "print(f1_score(yte, yte_pred, average='macro'))\n",
        "print(confusion_matrix(yte, yte_pred))"
      ],
      "metadata": {
        "id": "mUrm1-JZ-SRD"
      },
      "execution_count": null,
      "outputs": []
    },
    {
      "cell_type": "code",
      "source": [
        "#visualizacao da matriz de confusao\n",
        "from sklearn.metrics import ConfusionMatrixDisplay\n",
        "\n",
        "cm = confusion_matrix(yte, yte_pred)\n",
        "disp = ConfusionMatrixDisplay(confusion_matrix=cm, display_labels=mlp.classes_)\n",
        "disp.plot()"
      ],
      "metadata": {
        "id": "v9WOD5SSWvmO"
      },
      "execution_count": null,
      "outputs": []
    },
    {
      "cell_type": "code",
      "source": [
        "#relatorio de classificacao\n",
        "\n",
        "from sklearn.metrics import classification_report\n",
        "\n",
        "\n",
        "dados = load_breast_cancer()\n",
        "\n",
        "target_names = dados['target_names']\n",
        "\n",
        "print(classification_report(yte, yte_pred, target_names=target_names))"
      ],
      "metadata": {
        "id": "OomZl_pPXWRE"
      },
      "execution_count": null,
      "outputs": []
    },
    {
      "cell_type": "markdown",
      "source": [
        "**Desempenho no treino**"
      ],
      "metadata": {
        "id": "FFwFjUdFc4qV"
      }
    },
    {
      "cell_type": "code",
      "source": [
        "#relatorio de classicacao\n",
        "ytr_pred = mlp.predict(Xtr)\n",
        "\n",
        "print(classification_report(ytr, ytr_pred, target_names=target_names))"
      ],
      "metadata": {
        "id": "-Xx6J0vLc4Dp"
      },
      "execution_count": null,
      "outputs": []
    },
    {
      "cell_type": "code",
      "source": [
        "#matriz de confusao\n",
        "cm = confusion_matrix(ytr, ytr_pred)\n",
        "disp = ConfusionMatrixDisplay(confusion_matrix=cm, display_labels=mlp.classes_)\n",
        "disp.plot()"
      ],
      "metadata": {
        "id": "9gPs9cmpdBuU"
      },
      "execution_count": null,
      "outputs": []
    },
    {
      "cell_type": "markdown",
      "source": [
        "**Desempenho no teste**"
      ],
      "metadata": {
        "id": "7r88-5dfc9V1"
      }
    },
    {
      "cell_type": "code",
      "source": [
        "from sklearn.metrics import classification_report\n",
        "\n",
        "dados = load_breast_cancer()\n",
        "\n",
        "target_names = dados['target_names']\n",
        "\n",
        "print(classification_report(yte, yte_pred, target_names=target_names))"
      ],
      "metadata": {
        "id": "m0huYF0BBESy"
      },
      "execution_count": null,
      "outputs": []
    },
    {
      "cell_type": "code",
      "source": [
        "from sklearn.metrics import ConfusionMatrixDisplay\n",
        "\n",
        "cm = confusion_matrix(yte, yte_pred)\n",
        "disp = ConfusionMatrixDisplay(confusion_matrix=cm, display_labels=mlp.classes_)\n",
        "disp.plot()"
      ],
      "metadata": {
        "id": "T6bbw0yeBWc8"
      },
      "execution_count": null,
      "outputs": []
    },
    {
      "cell_type": "markdown",
      "source": [
        "# **MLP - Cenário(s) underfitting**"
      ],
      "metadata": {
        "id": "GI6ZIbrgeMPy"
      }
    },
    {
      "cell_type": "code",
      "source": [
        "from sklearn.datasets import load_breast_cancer\n",
        "from sklearn.neural_network import MLPClassifier\n",
        "from sklearn.model_selection import train_test_split\n",
        "from sklearn.metrics import accuracy_score\n",
        "from sklearn.metrics import precision_score\n",
        "from sklearn.metrics import recall_score\n",
        "from sklearn.metrics import f1_score\n",
        "from sklearn.metrics import confusion_matrix\n",
        "\n",
        "X, y = load_breast_cancer(return_X_y=True, as_frame=True)\n",
        "\n",
        "Xtr, Xte, ytr, yte = train_test_split(X, y, test_size=0.3, random_state=1)\n",
        "\n",
        "mlp = MLPClassifier()\n",
        "\n",
        "mlp.fit(Xtr, ytr) #treino\n",
        "\n",
        "ytr_pred = mlp.predict(Xtr) #treino\n",
        "yte_pred = mlp.predict(Xte) #teste\n",
        "\n",
        "print(f'Treino: {accuracy_score(ytr, ytr_pred)}')#treino\n",
        "print(f'Teste: {accuracy_score(yte, yte_pred)}')#teste"
      ],
      "metadata": {
        "id": "auiy838MeQPN"
      },
      "execution_count": null,
      "outputs": []
    },
    {
      "cell_type": "markdown",
      "source": [
        "# **MLP - Cenário(s) overfitting**"
      ],
      "metadata": {
        "id": "ACqzrLfuesMk"
      }
    },
    {
      "cell_type": "code",
      "source": [
        "from sklearn.datasets import load_breast_cancer\n",
        "from sklearn.neural_network import MLPClassifier\n",
        "from sklearn.model_selection import train_test_split\n",
        "from sklearn.metrics import accuracy_score\n",
        "from sklearn.metrics import precision_score\n",
        "from sklearn.metrics import recall_score\n",
        "from sklearn.metrics import f1_score\n",
        "from sklearn.metrics import confusion_matrix\n",
        "\n",
        "X, y = load_breast_cancer(return_X_y=True, as_frame=True)\n",
        "\n",
        "Xtr, Xte, ytr, yte = train_test_split(X, y, test_size=0.3, random_state=1)\n",
        "\n",
        "mlp = MLPClassifier(verbose=True, max_iter=20000, n_iter_no_change=100000)\n",
        "\n",
        "mlp.fit(Xtr, ytr) #treino\n",
        "\n",
        "ytr_pred = mlp.predict(Xtr) #treino\n",
        "yte_pred = mlp.predict(Xte) #teste\n",
        "\n",
        "print(f'Treino: {accuracy_score(ytr, ytr_pred)}')#treino\n",
        "print(f'Teste: {accuracy_score(yte, yte_pred)}')#teste"
      ],
      "metadata": {
        "id": "nzKfOLBCeuBz"
      },
      "execution_count": null,
      "outputs": []
    }
  ]
}