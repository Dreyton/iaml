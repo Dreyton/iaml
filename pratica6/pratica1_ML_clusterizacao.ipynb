{
  "nbformat": 4,
  "nbformat_minor": 0,
  "metadata": {
    "colab": {
      "provenance": [],
      "collapsed_sections": [
        "3ccVSTq-DtsD",
        "gMhHwJgsDs2k",
        "-o9hNd3HEAiJ",
        "FivZvk_dwxFS",
        "vcDGxoofxScM"
      ]
    },
    "kernelspec": {
      "name": "python3",
      "display_name": "Python 3"
    },
    "language_info": {
      "name": "python"
    }
  },
  "cells": [
    {
      "cell_type": "markdown",
      "metadata": {
        "id": "3ccVSTq-DtsD"
      },
      "source": [
        "# **Exemplo de aplicação de clusterização no dataset Breast Cancer**"
      ]
    },
    {
      "cell_type": "markdown",
      "metadata": {
        "id": "gMhHwJgsDs2k"
      },
      "source": [
        "# **Breast Cancer dataset**"
      ]
    },
    {
      "cell_type": "markdown",
      "metadata": {
        "id": "uT1RbgYl7mCq"
      },
      "source": [
        "**O dataset [Breast Cancer](https://scikit-learn.org/stable/modules/generated/sklearn.datasets.load_breast_cancer.html#sklearn.datasets.load_breast_cancer) representa 2 tipos de câncer de mama (maligno e benigno) com 30 atributos/características/features**"
      ]
    },
    {
      "cell_type": "code",
      "metadata": {
        "id": "Irdx-7uaJduC"
      },
      "source": [
        "import matplotlib.pyplot as plt\n",
        "from sklearn.datasets import load_breast_cancer\n",
        "import pandas as pd\n",
        "\n",
        "# importar os dados\n",
        "bc = load_breast_cancer()\n",
        "\n",
        "dados = pd.DataFrame(bc.data, columns=bc.feature_names)\n",
        "dados"
      ],
      "execution_count": null,
      "outputs": []
    },
    {
      "cell_type": "code",
      "metadata": {
        "id": "pUoQXlM_DlVY"
      },
      "source": [
        "dados['y'] = bc.target\n",
        "dados['y_name'] = dados['y'].apply(lambda x: bc.target_names[0] if x==0 else bc.target_names[1])\n",
        "dados"
      ],
      "execution_count": null,
      "outputs": []
    },
    {
      "cell_type": "code",
      "source": [
        "fig = plt.figure(figsize=(7,3))\n",
        "eixo = fig.add_axes([0,0,1,1])\n",
        "sel = dados['y_name'] == 'malignant'\n",
        "eixo.scatter(dados[sel]['mean radius'], dados[sel]['mean texture'], color='r')\n",
        "sel = dados['y_name'] == 'benign'\n",
        "eixo.scatter(dados[sel]['mean radius'], dados[sel]['mean texture'], color='b')\n",
        "eixo.legend(dados['y_name'].unique(), fontsize=10)\n",
        "fig.show()"
      ],
      "metadata": {
        "id": "jVCFq4Jysq0W"
      },
      "execution_count": null,
      "outputs": []
    },
    {
      "cell_type": "markdown",
      "metadata": {
        "id": "-o9hNd3HEAiJ"
      },
      "source": [
        "# **Aplicação [Clusterização](https://scikit-learn.org/stable/modules/clustering.html#clustering)**"
      ]
    },
    {
      "cell_type": "markdown",
      "metadata": {
        "id": "3t6PQX4R94-l"
      },
      "source": [
        "**Ler mais sobre [performance](https://scikit-learn.org/stable/modules/clustering.html#clustering-performance-evaluation) na clusterização**"
      ]
    },
    {
      "cell_type": "markdown",
      "metadata": {
        "id": "RB53QuKzLAxd"
      },
      "source": [
        "**Clusterização via [K-means](https://scikit-learn.org/stable/modules/generated/sklearn.cluster.KMeans.html#sklearn.cluster.KMeans)**"
      ]
    },
    {
      "cell_type": "code",
      "metadata": {
        "id": "WcpfvZPILBfT"
      },
      "source": [
        "import numpy as np\n",
        "from sklearn.cluster import KMeans\n",
        "from sklearn import metrics\n",
        "\n",
        "# separar os dados\n",
        "X = dados.iloc[:,:-2]\n",
        "y = dados['y']\n",
        "\n",
        "# Cria um modelo de K-means e o treina com os dados (X)\n",
        "km = KMeans(n_clusters=2)\n",
        "km.fit(X)\n",
        "\n",
        "#Verifica performance nos dados\n",
        "y_pred = km.predict(X)\n",
        "ari = metrics.adjusted_rand_score(y, y_pred) # mede a similaridade\n",
        "print(f'Adjusted rand score: {ari:.2f}')\n",
        "ami = metrics.adjusted_mutual_info_score(y, y_pred) # mede a concordancia\n",
        "print(f'Adjusted mutual information score: {ami:.2f}')\n",
        "#homogeneidade: cada cluster contem apenas membros de uma classe\n",
        "#completude: todos os membros de uma classe sao associados ao mesmo cluster\n",
        "hom = metrics.homogeneity_score(y, y_pred)\n",
        "print(f'Homogeneidade: {hom:.2f}')\n",
        "comp = metrics.completeness_score(y, y_pred)\n",
        "print(f'Completude: {comp:.2f}')\n",
        "#V-measure harmoniza a homogeneidade e a completude\n",
        "v_meas = metrics.v_measure_score(y, y_pred)\n",
        "print(f'V-measure: {v_meas:.2f}')"
      ],
      "execution_count": null,
      "outputs": []
    },
    {
      "cell_type": "markdown",
      "metadata": {
        "id": "-g6cuz0fGS49"
      },
      "source": [
        "**Resultado K-means 2D**"
      ]
    },
    {
      "cell_type": "code",
      "metadata": {
        "id": "YeLB7Rzd6OgC"
      },
      "source": [
        "import matplotlib.pyplot as plt\n",
        "\n",
        "plt.figure()\n",
        "colors = ['navy', 'darkorange'] #escolher qtd de cores de acordo com #classes\n",
        "lw = 2\n",
        "target_names = dados['y_name'].unique()\n",
        "\n",
        "for color, i, target_name in zip(colors, [0, 1, 2], target_names):\n",
        "    plt.scatter(X.to_numpy()[y_pred == i, 0], X.to_numpy()[y_pred == i, 1], color=color, alpha=.8, lw=lw,\n",
        "                label=target_name)\n",
        "plt.legend(loc='best', shadow=False, scatterpoints=1)\n",
        "plt.title('K-means no dataset Breast Cancer')\n",
        "\n",
        "plt.show()"
      ],
      "execution_count": null,
      "outputs": []
    },
    {
      "cell_type": "markdown",
      "metadata": {
        "id": "dHtmCi-Zzd64"
      },
      "source": [
        "**Clusterização via [MeanShift](https://scikit-learn.org/stable/modules/generated/sklearn.cluster.MeanShift.html#sklearn.cluster.MeanShift)**"
      ]
    },
    {
      "cell_type": "code",
      "metadata": {
        "id": "pt8_Zx5izly8"
      },
      "source": [
        "import numpy as np\n",
        "from sklearn.cluster import MeanShift\n",
        "from sklearn import metrics\n",
        "\n",
        "# separar os dados\n",
        "X = dados.iloc[:,:-2]\n",
        "y = dados['y']\n",
        "\n",
        "# Cria um modelo de MeanShift e o treina com os dados (X)\n",
        "ms = MeanShift()\n",
        "ms.fit(X)\n",
        "\n",
        "#Verifica performance nos dados\n",
        "y_pred = ms.predict(X)\n",
        "ari = metrics.adjusted_rand_score(y, y_pred) # mede a similaridade\n",
        "print(f'Adjusted rand score: {ari:.2f}')\n",
        "ami = metrics.adjusted_mutual_info_score(y, y_pred) # mede a concordancia\n",
        "print(f'Adjusted mutual information score: {ami:.2f}')\n",
        "#homogeneidade: cada cluster contem apenas membros de uma classe\n",
        "#completude: todos os membros de uma classe sao associados ao mesmo cluster\n",
        "hom = metrics.homogeneity_score(y, y_pred)\n",
        "print(f'Homogeneidade: {hom:.2f}')\n",
        "comp = metrics.completeness_score(y, y_pred)\n",
        "print(f'Completude: {comp:.2f}')\n",
        "#V-measure harmoniza a homogeneidade e a completude\n",
        "v_meas = metrics.v_measure_score(y, y_pred)\n",
        "print(f'V-measure: {v_meas:.2f}')"
      ],
      "execution_count": null,
      "outputs": []
    },
    {
      "cell_type": "markdown",
      "metadata": {
        "id": "Z-ud6HCHHyCb"
      },
      "source": [
        "**Resultado MeanShift 2D**"
      ]
    },
    {
      "cell_type": "code",
      "metadata": {
        "id": "ETI0IJYeHxvQ"
      },
      "source": [
        "import matplotlib.pyplot as plt\n",
        "\n",
        "plt.figure()\n",
        "colors = ['navy', 'darkorange'] #escolher qtd de cores de acordo com #classes\n",
        "lw = 2\n",
        "target_names = dados['y_name'].unique()\n",
        "\n",
        "for color, i, target_name in zip(colors, [0, 1, 2], target_names):\n",
        "    plt.scatter(X.to_numpy()[y_pred == i, 0], X.to_numpy()[y_pred == i, 1], color=color, alpha=.8, lw=lw,\n",
        "                label=target_name)\n",
        "plt.legend(loc='best', shadow=False, scatterpoints=1)\n",
        "plt.title('MeanShift no dataset Breast Cancer')\n",
        "\n",
        "plt.show()"
      ],
      "execution_count": null,
      "outputs": []
    },
    {
      "cell_type": "markdown",
      "metadata": {
        "id": "FivZvk_dwxFS"
      },
      "source": [
        "# **Iris dataset**"
      ]
    },
    {
      "cell_type": "markdown",
      "metadata": {
        "id": "SEjRZscUwxFZ"
      },
      "source": [
        "**O dataset [Iris](https://scikit-learn.org/stable/modules/generated/sklearn.datasets.load_iris.html#sklearn.datasets.load_iris) representa 3 tipos de flores Iris (Setosa, Versicolour e Virginica) com 4 atributos: *sepal length*, *sepal width*, *petal length* e *petal width*.**"
      ]
    },
    {
      "cell_type": "code",
      "metadata": {
        "id": "apJJtutPwxFZ"
      },
      "source": [
        "import matplotlib.pyplot as plt\n",
        "from sklearn import datasets\n",
        "import pandas as pd\n",
        "\n",
        "# importar os dados\n",
        "iris = datasets.load_iris()\n",
        "dados = pd.DataFrame(iris.data, columns=iris.feature_names)\n",
        "dados"
      ],
      "execution_count": null,
      "outputs": []
    },
    {
      "cell_type": "code",
      "source": [
        "dados['y'] = iris.target\n",
        "dados['y_name'] = dados['y'].apply(lambda x: iris.target_names[0] if x==0 else\n",
        "                                  (iris.target_names[1] if x==1 else iris.target_names[2]))\n",
        "dados"
      ],
      "metadata": {
        "id": "Wf7GQjGzGdZq"
      },
      "execution_count": null,
      "outputs": []
    },
    {
      "cell_type": "code",
      "source": [
        "fig = plt.figure(figsize=(7,3))\n",
        "eixo = fig.add_axes([0,0,1,1])\n",
        "sel = dados['y_name'] == 'setosa'\n",
        "eixo.scatter(dados[sel]['petal length (cm)'], dados[sel]['petal width (cm)'], color='r')\n",
        "sel = dados['y_name'] == 'versicolor'\n",
        "eixo.scatter(dados[sel]['petal length (cm)'], dados[sel]['petal width (cm)'], color='b')\n",
        "sel = dados['y_name'] == 'virginica'\n",
        "eixo.scatter(dados[sel]['petal length (cm)'], dados[sel]['petal width (cm)'], color='g')\n",
        "eixo.legend(dados['y_name'].unique(), fontsize=10)\n",
        "fig.show()"
      ],
      "metadata": {
        "id": "JTuA_NE_HgEV"
      },
      "execution_count": null,
      "outputs": []
    },
    {
      "cell_type": "markdown",
      "metadata": {
        "id": "vcDGxoofxScM"
      },
      "source": [
        "# **Aplicação [Clusterização](https://scikit-learn.org/stable/modules/clustering.html#clustering)**"
      ]
    },
    {
      "cell_type": "markdown",
      "metadata": {
        "id": "BRAoWnmfxScY"
      },
      "source": [
        "**Ler mais sobre [performance](https://scikit-learn.org/stable/modules/clustering.html#clustering-performance-evaluation) na clusterização**"
      ]
    },
    {
      "cell_type": "markdown",
      "metadata": {
        "id": "j96eXxHIxScY"
      },
      "source": [
        "**Clusterização via [K-means](https://scikit-learn.org/stable/modules/generated/sklearn.cluster.KMeans.html#sklearn.cluster.KMeans)**"
      ]
    },
    {
      "cell_type": "code",
      "metadata": {
        "id": "Co7ru9bCxScZ"
      },
      "source": [
        "import numpy as np\n",
        "from sklearn.cluster import KMeans\n",
        "from sklearn import metrics\n",
        "\n",
        "# separar os dados\n",
        "X = dados.iloc[:,:-2]\n",
        "y = dados['y']\n",
        "\n",
        "# Cria um modelo de K-means e o treina com os dados (X)\n",
        "km = KMeans(n_clusters=3)\n",
        "km.fit(X)\n",
        "\n",
        "#Verifica performance nos dados\n",
        "y_pred = km.predict(X)\n",
        "ari = metrics.adjusted_rand_score(y, y_pred) # mede a similaridade\n",
        "print(f'Adjusted rand score: {ari:.2f}')\n",
        "ami = metrics.adjusted_mutual_info_score(y, y_pred) # mede a concordancia\n",
        "print(f'Adjusted mutual information score: {ami:.2f}')\n",
        "#homogeneidade: cada cluster contem apenas membros de uma classe\n",
        "#completude: todos os membros de uma classe sao associados ao mesmo cluster\n",
        "hom = metrics.homogeneity_score(y, y_pred)\n",
        "print(f'Homogeneidade: {hom:.2f}')\n",
        "comp = metrics.completeness_score(y, y_pred)\n",
        "print(f'Completude: {comp:.2f}')\n",
        "#V-measure harmoniza a homogeneidade e a completude\n",
        "v_meas = metrics.v_measure_score(y, y_pred)\n",
        "print(f'V-measure: {v_meas:.2f}')"
      ],
      "execution_count": null,
      "outputs": []
    },
    {
      "cell_type": "markdown",
      "metadata": {
        "id": "IE_QvEPwxScZ"
      },
      "source": [
        "**Resultado K-means 2D**"
      ]
    },
    {
      "cell_type": "code",
      "metadata": {
        "id": "oGNJNtnmxScZ"
      },
      "source": [
        "import matplotlib.pyplot as plt\n",
        "\n",
        "plt.figure()\n",
        "colors = ['navy', 'darkorange', 'magenta'] #escolher qtd de cores de acordo com #classes\n",
        "lw = 2\n",
        "target_names = dados['y_name'].unique()\n",
        "\n",
        "for color, i, target_name in zip(colors, [0, 1, 2], target_names):\n",
        "    plt.scatter(X.to_numpy()[y_pred == i, -2], X.to_numpy()[y_pred == i, -1], color=color, alpha=.8, lw=lw,\n",
        "                label=target_name)\n",
        "plt.legend(loc='best', shadow=False, scatterpoints=1)\n",
        "plt.title('K-means no dataset Iris')\n",
        "\n",
        "plt.show()"
      ],
      "execution_count": null,
      "outputs": []
    },
    {
      "cell_type": "markdown",
      "metadata": {
        "id": "4kqpm9uVxScZ"
      },
      "source": [
        "**Clusterização via [MeanShift](https://scikit-learn.org/stable/modules/generated/sklearn.cluster.MeanShift.html#sklearn.cluster.MeanShift)**"
      ]
    },
    {
      "cell_type": "code",
      "metadata": {
        "id": "mAGbqqQAxScZ"
      },
      "source": [
        "import numpy as np\n",
        "from sklearn.cluster import MeanShift\n",
        "from sklearn import metrics\n",
        "\n",
        "# separar os dados\n",
        "X = dados.iloc[:,:-2]\n",
        "y = dados['y']\n",
        "\n",
        "# Cria um modelo de MeanShift e o treina com os dados (X)\n",
        "#ms = MeanShift()\n",
        "ms = MeanShift(bandwidth=0.75)\n",
        "ms.fit(X)\n",
        "\n",
        "#Verifica performance nos dados\n",
        "y_pred = ms.predict(X)\n",
        "ari = metrics.adjusted_rand_score(y, y_pred) # mede a similaridade\n",
        "print(f'Adjusted rand score: {ari:.2f}')\n",
        "ami = metrics.adjusted_mutual_info_score(y, y_pred) # mede a concordancia\n",
        "print(f'Adjusted mutual information score: {ami:.2f}')\n",
        "#homogeneidade: cada cluster contem apenas membros de uma classe\n",
        "#completude: todos os membros de uma classe sao associados ao mesmo cluster\n",
        "hom = metrics.homogeneity_score(y, y_pred)\n",
        "print(f'Homogeneidade: {hom:.2f}')\n",
        "comp = metrics.completeness_score(y, y_pred)\n",
        "print(f'Completude: {comp:.2f}')\n",
        "#V-measure harmoniza a homogeneidade e a completude\n",
        "v_meas = metrics.v_measure_score(y, y_pred)\n",
        "print(f'V-measure: {v_meas:.2f}')"
      ],
      "execution_count": null,
      "outputs": []
    },
    {
      "cell_type": "markdown",
      "metadata": {
        "id": "731bOu_xxSca"
      },
      "source": [
        "**Resultado MeanShift 2D**"
      ]
    },
    {
      "cell_type": "code",
      "metadata": {
        "id": "c8hDjSN9xSca"
      },
      "source": [
        "import matplotlib.pyplot as plt\n",
        "\n",
        "plt.figure()\n",
        "colors = ['navy', 'darkorange', 'magenta'] #escolher qtd de cores de acordo com #classes\n",
        "lw = 2\n",
        "target_names = dados['y_name'].unique()\n",
        "\n",
        "for color, i, target_name in zip(colors, [0, 1, 2], target_names):\n",
        "    plt.scatter(X.to_numpy()[y_pred == i, -2], X.to_numpy()[y_pred == i, -1], color=color, alpha=.8, lw=lw,\n",
        "                label=target_name)\n",
        "plt.legend(loc='best', shadow=False, scatterpoints=1)\n",
        "plt.title('MeanShift no dataset Iris')\n",
        "\n",
        "plt.show()"
      ],
      "execution_count": null,
      "outputs": []
    }
  ]
}