{
  "nbformat": 4,
  "nbformat_minor": 0,
  "metadata": {
    "colab": {
      "provenance": [],
      "collapsed_sections": [
        "zkPeMOFXHff7"
      ]
    },
    "kernelspec": {
      "name": "python3",
      "display_name": "Python 3"
    },
    "language_info": {
      "name": "python"
    }
  },
  "cells": [
    {
      "cell_type": "markdown",
      "source": [
        "# **Seleção de features (características/atributos)**"
      ],
      "metadata": {
        "id": "tfaOM0GSJL8r"
      }
    },
    {
      "cell_type": "markdown",
      "source": [
        "**Seleção de features baseada em modelo**"
      ],
      "metadata": {
        "id": "BAhwt2UMLFES"
      }
    },
    {
      "cell_type": "code",
      "source": [
        "from sklearn.datasets import load_diabetes\n",
        "\n",
        "diabetes = load_diabetes()\n",
        "X, y = diabetes.data, diabetes.target\n",
        "print(diabetes.DESCR)"
      ],
      "metadata": {
        "id": "3Hue2GFAJQyW"
      },
      "execution_count": null,
      "outputs": []
    },
    {
      "cell_type": "code",
      "source": [
        "import matplotlib.pyplot as plt\n",
        "import numpy as np\n",
        "from sklearn.linear_model import RidgeCV\n",
        "\n",
        "ridge = RidgeCV(alphas=np.logspace(-6, 6, num=5)).fit(X, y)\n",
        "importance = np.abs(ridge.coef_)\n",
        "feature_names = np.array(diabetes.feature_names)\n",
        "plt.figure(figsize=(10,8))\n",
        "plt.bar(height=importance, x=feature_names)\n",
        "plt.title(\"Feature importances via coefficients\")\n",
        "plt.show()"
      ],
      "metadata": {
        "id": "OzWWJBVxLR4O"
      },
      "execution_count": null,
      "outputs": []
    },
    {
      "cell_type": "code",
      "source": [
        "from sklearn.feature_selection import SelectFromModel\n",
        "from time import time\n",
        "\n",
        "threshold = np.sort(importance)[-3] + 0.01\n",
        "\n",
        "tic = time()\n",
        "sfm = SelectFromModel(ridge, threshold=threshold).fit(X, y)\n",
        "toc = time()\n",
        "print(f\"Features selected by SelectFromModel: {feature_names[sfm.get_support()]}\")\n",
        "print(f\"Done in {toc - tic:.3f}s\")"
      ],
      "metadata": {
        "id": "d4sFEhAtLeLw"
      },
      "execution_count": null,
      "outputs": []
    },
    {
      "cell_type": "code",
      "source": [
        "importance"
      ],
      "metadata": {
        "id": "hdbyZlwwLxFR"
      },
      "execution_count": null,
      "outputs": []
    },
    {
      "cell_type": "code",
      "source": [
        "threshold"
      ],
      "metadata": {
        "id": "WxRhmwdLLovz"
      },
      "execution_count": null,
      "outputs": []
    },
    {
      "cell_type": "markdown",
      "source": [
        "**Eliminação recursiva de feature com cross-validation**"
      ],
      "metadata": {
        "id": "ej8CinP1MCVr"
      }
    },
    {
      "cell_type": "code",
      "source": [
        "from sklearn.datasets import make_classification\n",
        "\n",
        "X, y = make_classification(\n",
        "    n_samples=500,\n",
        "    n_features=15,\n",
        "    n_informative=3,\n",
        "    n_redundant=2,\n",
        "    n_repeated=0,\n",
        "    n_classes=8,\n",
        "    n_clusters_per_class=1,\n",
        "    class_sep=0.8,\n",
        "    random_state=42,\n",
        ")"
      ],
      "metadata": {
        "id": "yYwAGC0IMI5a"
      },
      "execution_count": null,
      "outputs": []
    },
    {
      "cell_type": "markdown",
      "source": [
        "**RFECV - Recursive feature elimination with cross-validation**"
      ],
      "metadata": {
        "id": "6GAgFuBsMo56"
      }
    },
    {
      "cell_type": "code",
      "source": [
        "from sklearn.feature_selection import RFECV\n",
        "from sklearn.model_selection import StratifiedKFold\n",
        "from sklearn.linear_model import LogisticRegression\n",
        "\n",
        "min_features_to_select = 1  # Minimum number of features to consider\n",
        "clf = LogisticRegression()\n",
        "cv = StratifiedKFold(5)\n",
        "\n",
        "rfecv = RFECV(\n",
        "    estimator=clf,\n",
        "    step=1,\n",
        "    cv=cv,\n",
        "    scoring=\"accuracy\",\n",
        "    min_features_to_select=min_features_to_select,\n",
        "    n_jobs=2,\n",
        ")\n",
        "rfecv.fit(X, y)\n",
        "\n",
        "print(f\"Optimal number of features: {rfecv.n_features_}\")"
      ],
      "metadata": {
        "id": "GzOiva3UMcCH"
      },
      "execution_count": null,
      "outputs": []
    },
    {
      "cell_type": "code",
      "source": [
        "import matplotlib.pyplot as plt\n",
        "\n",
        "n_scores = len(rfecv.cv_results_[\"mean_test_score\"])\n",
        "plt.figure(figsize=(10,8))\n",
        "plt.xlabel(\"Number of features selected\")\n",
        "plt.ylabel(\"Mean test accuracy\")\n",
        "plt.errorbar(\n",
        "    range(min_features_to_select, n_scores + min_features_to_select),\n",
        "    rfecv.cv_results_[\"mean_test_score\"],\n",
        "    yerr=rfecv.cv_results_[\"std_test_score\"],\n",
        ")\n",
        "plt.title(\"Recursive Feature Elimination \\nwith correlated features\")\n",
        "plt.show()"
      ],
      "metadata": {
        "id": "T4fQbmq2M7XQ"
      },
      "execution_count": null,
      "outputs": []
    },
    {
      "cell_type": "markdown",
      "source": [
        "**Select from Model**"
      ],
      "metadata": {
        "id": "jdLR99mwNnb0"
      }
    },
    {
      "cell_type": "code",
      "source": [
        "from sklearn.svm import LinearSVC\n",
        "from sklearn.datasets import load_iris\n",
        "from sklearn.feature_selection import SelectFromModel\n",
        "X, y = load_iris(return_X_y=True)\n",
        "X.shape\n",
        "\n",
        "lsvc = LinearSVC(C=0.01, penalty=\"l1\", dual=False).fit(X, y)\n",
        "model = SelectFromModel(lsvc, prefit=True)\n",
        "X_new = model.transform(X)\n",
        "X_new.shape"
      ],
      "metadata": {
        "id": "_4UZ6B6gNq7d"
      },
      "execution_count": null,
      "outputs": []
    },
    {
      "cell_type": "code",
      "source": [
        "from sklearn.ensemble import ExtraTreesClassifier\n",
        "from sklearn.datasets import load_iris\n",
        "from sklearn.feature_selection import SelectFromModel\n",
        "X, y = load_iris(return_X_y=True)\n",
        "X.shape\n",
        "\n",
        "clf = ExtraTreesClassifier(n_estimators=50)\n",
        "clf = clf.fit(X, y)\n",
        "clf.feature_importances_\n",
        "\n",
        "model = SelectFromModel(clf, prefit=True)\n",
        "X_new = model.transform(X)\n",
        "X_new.shape"
      ],
      "metadata": {
        "id": "cYtJ_HeFN3TN"
      },
      "execution_count": null,
      "outputs": []
    },
    {
      "cell_type": "code",
      "source": [
        "clf.feature_importances_"
      ],
      "metadata": {
        "id": "kL7b_19VSr9C"
      },
      "execution_count": null,
      "outputs": []
    },
    {
      "cell_type": "code",
      "source": [
        "#wine, 13 features\n",
        "from sklearn.datasets import load_wine\n",
        "\n",
        "X, y = load_wine(return_X_y=True)\n",
        "X.shape"
      ],
      "metadata": {
        "id": "1xTOTvdLOQ2J"
      },
      "execution_count": null,
      "outputs": []
    },
    {
      "cell_type": "code",
      "source": [
        "clf = ExtraTreesClassifier(n_estimators=50)\n",
        "clf = clf.fit(X, y)\n",
        "clf.feature_importances_"
      ],
      "metadata": {
        "id": "CDr8kzlRTIFR"
      },
      "execution_count": null,
      "outputs": []
    },
    {
      "cell_type": "code",
      "source": [
        "model = SelectFromModel(clf, prefit=True)\n",
        "X_new = model.transform(X)\n",
        "X_new.shape"
      ],
      "metadata": {
        "id": "OjSgz_QBTS0b"
      },
      "execution_count": null,
      "outputs": []
    },
    {
      "cell_type": "code",
      "source": [
        "from sklearn.neighbors import KNeighborsClassifier\n",
        "from sklearn import datasets\n",
        "from sklearn.model_selection import train_test_split\n",
        "\n",
        "# partir o conjunto de dados em treino e teste\n",
        "X_treino, X_teste, y_treino, y_teste = train_test_split(X, y, test_size=0.3,random_state=1)\n",
        "\n",
        "# Cria um modelo de knn e o treina com os dados (X, y)\n",
        "knn = KNeighborsClassifier()\n",
        "\n",
        "knn.fit(X_treino, y_treino)\n",
        "\n",
        "#Verifica acurácia nos dados de treino\n",
        "acc_treino = knn.score(X_treino, y_treino)*100\n",
        "print(f'Acurácia no treino: {acc_treino:.2f}%')\n",
        "\n",
        "#Verifica acurácia nos dados de teste\n",
        "acc_teste = knn.score(X_teste, y_teste)*100\n",
        "print(f'Acurácia no teste: {acc_teste:.2f}%')"
      ],
      "metadata": {
        "id": "5MVPQg5RTm5V"
      },
      "execution_count": null,
      "outputs": []
    },
    {
      "cell_type": "code",
      "source": [
        "from sklearn.neighbors import KNeighborsClassifier\n",
        "from sklearn import datasets\n",
        "from sklearn.model_selection import train_test_split\n",
        "\n",
        "# partir o conjunto de dados em treino e teste\n",
        "X_treino, X_teste, y_treino, y_teste = train_test_split(X_new, y, test_size=0.3,random_state=1)\n",
        "\n",
        "# Cria um modelo de knn e o treina com os dados (X, y)\n",
        "knn = KNeighborsClassifier()\n",
        "\n",
        "knn.fit(X_treino, y_treino)\n",
        "\n",
        "#Verifica acurácia nos dados de treino\n",
        "acc_treino = knn.score(X_treino, y_treino)*100\n",
        "print(f'Acurácia no treino: {acc_treino:.2f}%')\n",
        "\n",
        "#Verifica acurácia nos dados de teste\n",
        "acc_teste = knn.score(X_teste, y_teste)*100\n",
        "print(f'Acurácia no teste: {acc_teste:.2f}%')"
      ],
      "metadata": {
        "id": "lKK0_IapT13t"
      },
      "execution_count": null,
      "outputs": []
    },
    {
      "cell_type": "markdown",
      "source": [
        "**Sequential feature selection**"
      ],
      "metadata": {
        "id": "HzZ9pryv3sO-"
      }
    },
    {
      "cell_type": "code",
      "source": [
        "from sklearn.feature_selection import SequentialFeatureSelector\n",
        "import numpy as np\n",
        "from sklearn.datasets import load_iris\n",
        "from sklearn.ensemble import ExtraTreesClassifier\n",
        "\n",
        "iris = load_iris()\n",
        "X, y = load_iris(return_X_y=True)\n",
        "\n",
        "feature_names = np.array(iris.feature_names)\n",
        "clf = ExtraTreesClassifier(n_estimators=50)\n",
        "\n",
        "sfs_forward = SequentialFeatureSelector(clf, n_features_to_select=2,\n",
        "                                        direction='forward').fit(X,y)\n",
        "feature_names[sfs_forward.get_support()]"
      ],
      "metadata": {
        "id": "IEHkHpgF3xec"
      },
      "execution_count": null,
      "outputs": []
    },
    {
      "cell_type": "code",
      "source": [
        "from sklearn.feature_selection import SequentialFeatureSelector\n",
        "import numpy as np\n",
        "from sklearn.datasets import load_iris\n",
        "from sklearn.ensemble import ExtraTreesClassifier\n",
        "\n",
        "iris = load_iris()\n",
        "X, y = load_iris(return_X_y=True)\n",
        "\n",
        "feature_names = np.array(iris.feature_names)\n",
        "clf = ExtraTreesClassifier(n_estimators=50)\n",
        "\n",
        "bfs_backward = SequentialFeatureSelector(clf, n_features_to_select=2,\n",
        "                                        direction='backward').fit(X,y)\n",
        "feature_names[bfs_backward.get_support()]"
      ],
      "metadata": {
        "id": "FjSlfVCa6Z_c"
      },
      "execution_count": null,
      "outputs": []
    },
    {
      "cell_type": "markdown",
      "source": [
        "# **Balanceamento de classes e geração de dados artificiais** -> Ex. TCC\n",
        "\n"
      ],
      "metadata": {
        "id": "zkPeMOFXHff7"
      }
    },
    {
      "cell_type": "markdown",
      "metadata": {
        "id": "biJIiLwywNqN"
      },
      "source": [
        "##Dataset no tempo - Carregamento"
      ]
    },
    {
      "cell_type": "code",
      "execution_count": null,
      "metadata": {
        "id": "NebisZz5pQKf"
      },
      "outputs": [],
      "source": [
        "import pandas as pd\n",
        "import numpy as np\n",
        "import matplotlib.pyplot as plt"
      ]
    },
    {
      "cell_type": "code",
      "execution_count": null,
      "metadata": {
        "id": "mjVb-RN-pnHW"
      },
      "outputs": [],
      "source": [
        "dados = pd.read_csv('dados_voice.csv')"
      ]
    },
    {
      "cell_type": "code",
      "execution_count": null,
      "metadata": {
        "id": "XvWKVdFkpqvJ"
      },
      "outputs": [],
      "source": [
        "dados.head()"
      ]
    },
    {
      "cell_type": "code",
      "execution_count": null,
      "metadata": {
        "id": "Ege5nnKNwEyB"
      },
      "outputs": [],
      "source": [
        "dados.shape"
      ]
    },
    {
      "cell_type": "code",
      "execution_count": null,
      "metadata": {
        "id": "GY9itMj9s8in"
      },
      "outputs": [],
      "source": [
        "dados.columns"
      ]
    },
    {
      "cell_type": "code",
      "execution_count": null,
      "metadata": {
        "id": "jlPLbYJKpssB"
      },
      "outputs": [],
      "source": [
        "dados.drop('Unnamed: 0',axis=1,inplace=True)\n",
        "dados.head()"
      ]
    },
    {
      "cell_type": "code",
      "execution_count": null,
      "metadata": {
        "id": "-krn3hp9V1Ui"
      },
      "outputs": [],
      "source": [
        "X = dados.drop(['idade','target','fuma_1','fuma_2','fuma_3','qtde/dia','val_genero','target'],axis=1) #Atributos numéricos\n",
        "y = dados['target']\n",
        "\n",
        "X_np = X.to_numpy() #Convertendo em array numpy\n",
        "X_np"
      ]
    },
    {
      "cell_type": "code",
      "execution_count": null,
      "metadata": {
        "id": "aVotwYAbWKkp"
      },
      "outputs": [],
      "source": [
        "y"
      ]
    },
    {
      "cell_type": "code",
      "source": [
        "plt.plot(X_np[0])"
      ],
      "metadata": {
        "id": "Dy9hsPOdn5hg"
      },
      "execution_count": null,
      "outputs": []
    },
    {
      "cell_type": "code",
      "source": [
        "plt.plot(X_np[100])"
      ],
      "metadata": {
        "id": "V2G7YNQyy-UN"
      },
      "execution_count": null,
      "outputs": []
    },
    {
      "cell_type": "markdown",
      "metadata": {
        "id": "B9sNLiDYkDBg"
      },
      "source": [
        "## Transformação dos dados para PSD - Gerando novo dataset"
      ]
    },
    {
      "cell_type": "markdown",
      "source": [
        "**Visualizando registros manualmente**"
      ],
      "metadata": {
        "id": "dpKdav3aCBV_"
      }
    },
    {
      "cell_type": "code",
      "execution_count": null,
      "metadata": {
        "id": "XtGL4yfUYo5-"
      },
      "outputs": [],
      "source": [
        "import scipy\n",
        "from scipy.signal import welch\n",
        "\n",
        "(f1, S1)= scipy.signal.welch(X_np[0,:], fs=8000.0, nperseg=4096)\n",
        "(f2, S2)= scipy.signal.welch(X_np[1,:], fs=8000.0, nperseg=4096)\n",
        "(f3, S3)= scipy.signal.welch(X_np[7,:], fs=8000.0, nperseg=4096)\n",
        "\n",
        "plt.figure(figsize=(5,3))\n",
        "plt.semilogy(f1, S1,'b')\n",
        "plt.semilogy(f2, S2,'r')\n",
        "plt.semilogy(f3, S3,'g')\n",
        "plt.xlabel('frequency [Hz]')\n",
        "plt.ylabel('PSD [V²/Hz]')\n",
        "plt.savefig('destination_path.eps', format='eps', bbox_inches =\"tight\")\n",
        "plt.show()"
      ]
    },
    {
      "cell_type": "code",
      "execution_count": null,
      "metadata": {
        "id": "6lPVIq2tjmG8"
      },
      "outputs": [],
      "source": [
        "S1.shape"
      ]
    },
    {
      "cell_type": "markdown",
      "source": [
        "**Iterando registros e transformação de escala (V²/Hz para dB)**"
      ],
      "metadata": {
        "id": "E8VZ5STlCH1s"
      }
    },
    {
      "cell_type": "code",
      "source": [
        "def psd(signals, fs=8000.0, nperseg=4*1024):\n",
        "  n = signals.shape[0]\n",
        "  tmp = np.zeros((n, 2049))\n",
        "\n",
        "  for i in range(n):\n",
        "    _, S= scipy.signal.welch(signals[i, :], fs=8000.0, nperseg=4*1024)\n",
        "    tmp[i, :] = 20*np.log10(S)\n",
        "\n",
        "  fig = plt.figure(figsize=(6,5))\n",
        "  p1 = plt.plot(_, tmp[0,:],'b')\n",
        "  p2 = plt.plot(_, tmp[1,:],'r')\n",
        "  p3 = plt.plot(_, tmp[7,:],'g')\n",
        "  plt.xlabel('Frequência [Hz]')\n",
        "  plt.ylabel('PSD [dB]')\n",
        "  plt.legend((p1[0],p2[0],p3[0]),('Disfonia','Saudável','Laringite'))\n",
        "  plt.savefig('psd_classes.eps', format='eps', bbox_inches =\"tight\")\n",
        "  plt.show()\n",
        "  df = pd.DataFrame(tmp)\n",
        "  return df"
      ],
      "metadata": {
        "id": "7fZ1JAP28m2w"
      },
      "execution_count": null,
      "outputs": []
    },
    {
      "cell_type": "code",
      "source": [
        "X_psd = psd(X_np) #Dataframe da PSD\n"
      ],
      "metadata": {
        "id": "nKM84ZEW8ycM"
      },
      "execution_count": null,
      "outputs": []
    },
    {
      "cell_type": "code",
      "execution_count": null,
      "metadata": {
        "id": "yqtVu5loz-SF"
      },
      "outputs": [],
      "source": [
        "X_psd = psd(X_np) #Dataframe da PSD\n",
        "X_psd"
      ]
    },
    {
      "cell_type": "markdown",
      "metadata": {
        "id": "6vaQgYrIdJju"
      },
      "source": [
        "## Smote (PSD)"
      ]
    },
    {
      "cell_type": "code",
      "source": [
        "# problema de desbalanceamento\n",
        "y.value_counts()"
      ],
      "metadata": {
        "id": "-li6O_GszViX"
      },
      "execution_count": null,
      "outputs": []
    },
    {
      "cell_type": "code",
      "execution_count": null,
      "metadata": {
        "id": "HRa33FHTioBa"
      },
      "outputs": [],
      "source": [
        "from sklearn.model_selection import train_test_split\n",
        "from imblearn.over_sampling import SMOTE\n",
        "from collections import Counter\n",
        "import numpy as np"
      ]
    },
    {
      "cell_type": "code",
      "execution_count": null,
      "metadata": {
        "id": "7TAabZ0w7ErL"
      },
      "outputs": [],
      "source": [
        "strategy = {0:113, 1:113, 2:113}  #Estratégia para balanceamento"
      ]
    },
    {
      "cell_type": "code",
      "execution_count": null,
      "metadata": {
        "id": "4I7z5z627ErM"
      },
      "outputs": [],
      "source": [
        "sm = SMOTE(random_state=42,sampling_strategy=strategy)\n",
        "X_res, y_res = sm.fit_resample(X_psd,y)  #X_res e y_res compõem o novo dataset balanceado\n",
        "\n",
        "X_treino, X_teste, y_treino, y_teste = train_test_split(X_res, y_res, test_size=0.2,random_state=1)"
      ]
    },
    {
      "cell_type": "code",
      "execution_count": null,
      "metadata": {
        "id": "9D5Mkg8E7puL"
      },
      "outputs": [],
      "source": [
        "y_res.value_counts()"
      ]
    },
    {
      "cell_type": "code",
      "execution_count": null,
      "metadata": {
        "id": "mmmYtYjdaSy6"
      },
      "outputs": [],
      "source": [
        "y_treino.value_counts()"
      ]
    },
    {
      "cell_type": "code",
      "source": [
        "y_teste.value_counts()"
      ],
      "metadata": {
        "id": "4yxAN6h6ziuw"
      },
      "execution_count": null,
      "outputs": []
    },
    {
      "cell_type": "markdown",
      "metadata": {
        "id": "dE272_PTaS8m"
      },
      "source": [
        "## Normalização"
      ]
    },
    {
      "cell_type": "code",
      "execution_count": null,
      "metadata": {
        "id": "f22KbvYEaS8n"
      },
      "outputs": [],
      "source": [
        "from sklearn.preprocessing import StandardScaler\n",
        "from sklearn.preprocessing import MinMaxScaler\n",
        "\n",
        "scaler = StandardScaler()\n",
        "scaler.fit(X_treino)\n",
        "X_norm_treino = scaler.transform(X_treino)"
      ]
    },
    {
      "cell_type": "code",
      "execution_count": null,
      "metadata": {
        "id": "oYvqltdwaS8t"
      },
      "outputs": [],
      "source": [
        "X_norm_treino = pd.DataFrame(X_norm_treino)"
      ]
    },
    {
      "cell_type": "code",
      "execution_count": null,
      "metadata": {
        "id": "iVaQFn8MaS8u"
      },
      "outputs": [],
      "source": [
        "X_norm_treino"
      ]
    },
    {
      "cell_type": "code",
      "execution_count": null,
      "metadata": {
        "id": "brAiPw9_koe5"
      },
      "outputs": [],
      "source": [
        "X_norm_teste = scaler.transform(X_teste)\n",
        "X_norm_teste"
      ]
    },
    {
      "cell_type": "markdown",
      "metadata": {
        "id": "OxXJOLW9wuKu"
      },
      "source": [
        "## Random Forest - Smote"
      ]
    },
    {
      "cell_type": "code",
      "execution_count": null,
      "metadata": {
        "id": "cWuPrckMwuK1"
      },
      "outputs": [],
      "source": [
        "from sklearn.model_selection import train_test_split\n",
        "from sklearn.metrics import accuracy_score\n",
        "from sklearn.metrics import precision_score\n",
        "from sklearn.metrics import recall_score\n",
        "from sklearn.metrics import f1_score\n",
        "from sklearn.metrics import confusion_matrix\n",
        "from sklearn.model_selection import RandomizedSearchCV\n",
        "import numpy as np"
      ]
    },
    {
      "cell_type": "code",
      "execution_count": null,
      "metadata": {
        "id": "BFH-9fBmwuK6"
      },
      "outputs": [],
      "source": [
        "from sklearn.ensemble import RandomForestClassifier\n",
        "from sklearn.model_selection import KFold\n",
        "\n",
        "rf = RandomForestClassifier(random_state=42)\n",
        "kf = KFold(n_splits=5)\n",
        "param_rand = {'n_estimators':[50,100,150,200,250,500,700,800],\n",
        "              'criterion':['gini', 'entropy']} #remover log_loss\n",
        "\n",
        "rs = RandomizedSearchCV(estimator=rf, param_distributions=param_rand, cv=kf,\n",
        "                  scoring='accuracy', n_iter=10)\n",
        "\n",
        "rf_randomcv = rs.fit(X_treino, y_treino)"
      ]
    },
    {
      "cell_type": "code",
      "execution_count": null,
      "metadata": {
        "id": "arpddE0MwuK9"
      },
      "outputs": [],
      "source": [
        "rf_randomcv.best_params_"
      ]
    },
    {
      "cell_type": "code",
      "execution_count": null,
      "metadata": {
        "id": "qr0ydzJIwuLA"
      },
      "outputs": [],
      "source": [
        "rf_randomcv.best_score_"
      ]
    },
    {
      "cell_type": "code",
      "execution_count": null,
      "metadata": {
        "id": "Js2hwlwPwuLB"
      },
      "outputs": [],
      "source": [
        "rf_otm = RandomForestClassifier().set_params(**rf_randomcv.best_params_)\n",
        "\n",
        "rf_otm.fit(X_treino, y_treino)\n",
        "rf_otm.score(X_treino, y_treino)"
      ]
    },
    {
      "cell_type": "code",
      "execution_count": null,
      "metadata": {
        "id": "b-1iNVHMwuLD"
      },
      "outputs": [],
      "source": [
        "rf_otm.score(X_teste, y_teste)"
      ]
    },
    {
      "cell_type": "code",
      "execution_count": null,
      "metadata": {
        "id": "YWE-8evLwuLE"
      },
      "outputs": [],
      "source": [
        "y_treino_pred = rf_otm.predict(X_treino)"
      ]
    },
    {
      "cell_type": "code",
      "execution_count": null,
      "metadata": {
        "id": "e_o24nRCwuLF"
      },
      "outputs": [],
      "source": [
        "from sklearn.metrics import classification_report\n",
        "\n",
        "target_names = ['Disfonia', 'Saudável', 'Laringite']\n",
        "print(classification_report(y_treino, y_treino_pred, target_names=target_names))"
      ]
    },
    {
      "cell_type": "code",
      "execution_count": null,
      "metadata": {
        "id": "af78vcJEwuLG"
      },
      "outputs": [],
      "source": [
        "y_teste_pred = rf_otm.predict(X_teste)"
      ]
    },
    {
      "cell_type": "code",
      "execution_count": null,
      "metadata": {
        "id": "lAd_J3UXwuLH"
      },
      "outputs": [],
      "source": [
        "from sklearn.metrics import classification_report\n",
        "\n",
        "target_names = ['Disfonia', 'Saudável', 'Laringite']\n",
        "print(classification_report(y_teste, y_teste_pred, target_names=target_names))"
      ]
    },
    {
      "cell_type": "markdown",
      "metadata": {
        "id": "1Hs4lvtSK5iB"
      },
      "source": [
        "## SVC - Smote"
      ]
    },
    {
      "cell_type": "code",
      "execution_count": null,
      "metadata": {
        "id": "sNAw2m6FK5iE"
      },
      "outputs": [],
      "source": [
        "from sklearn.svm import SVC\n",
        "from sklearn.model_selection import RandomizedSearchCV\n",
        "\n",
        "svc = SVC(random_state=42)\n",
        "kf = KFold(n_splits=5)\n",
        "param_rand = {'C':[0.25,0.5,0.75,1],\n",
        "              'kernel':['linear','poly','rbf','sigmoid']}\n",
        "\n",
        "rs = RandomizedSearchCV(estimator=svc, param_distributions=param_rand, cv=kf,\n",
        "                  scoring='accuracy', n_iter=10)\n",
        "\n",
        "svc_randomcv = rs.fit(X_treino, y_treino)"
      ]
    },
    {
      "cell_type": "code",
      "execution_count": null,
      "metadata": {
        "id": "6s7Eog9uK5iG"
      },
      "outputs": [],
      "source": [
        "svc_randomcv.best_params_"
      ]
    },
    {
      "cell_type": "code",
      "execution_count": null,
      "metadata": {
        "id": "ylTwb6qPK5iI"
      },
      "outputs": [],
      "source": [
        "svc_randomcv.best_score_"
      ]
    },
    {
      "cell_type": "code",
      "execution_count": null,
      "metadata": {
        "id": "z2XG29xQK5iK"
      },
      "outputs": [],
      "source": [
        "svc_otm = SVC().set_params(**svc_randomcv.best_params_)\n",
        "\n",
        "svc_otm.fit(X_treino, y_treino)\n",
        "svc_otm.score(X_treino, y_treino)"
      ]
    },
    {
      "cell_type": "code",
      "execution_count": null,
      "metadata": {
        "id": "ex56mfwWK5iM"
      },
      "outputs": [],
      "source": [
        "svc_otm.score(X_teste, y_teste)"
      ]
    },
    {
      "cell_type": "code",
      "execution_count": null,
      "metadata": {
        "id": "-4u0ETdAK5iN"
      },
      "outputs": [],
      "source": [
        "y_treino_pred = svc_otm.predict(X_treino)"
      ]
    },
    {
      "cell_type": "code",
      "execution_count": null,
      "metadata": {
        "id": "Ln9urDpyK5iN"
      },
      "outputs": [],
      "source": [
        "from sklearn.metrics import classification_report\n",
        "\n",
        "target_names = ['Disfonia', 'Saudável', 'Laringite']\n",
        "print(classification_report(y_treino, y_treino_pred, target_names=target_names))"
      ]
    },
    {
      "cell_type": "code",
      "execution_count": null,
      "metadata": {
        "id": "XUw9dPDcK5iP"
      },
      "outputs": [],
      "source": [
        "y_teste_pred = svc_otm.predict(X_teste)"
      ]
    },
    {
      "cell_type": "code",
      "execution_count": null,
      "metadata": {
        "id": "vL6jQMUJK5iR"
      },
      "outputs": [],
      "source": [
        "from sklearn.metrics import classification_report\n",
        "\n",
        "target_names = ['Disfonia', 'Saudável', 'Laringite']\n",
        "print(classification_report(y_teste, y_teste_pred, target_names=target_names))"
      ]
    },
    {
      "cell_type": "markdown",
      "metadata": {
        "id": "rog82246Mnwo"
      },
      "source": [
        "## MLP - Normalizado + Smote"
      ]
    },
    {
      "cell_type": "code",
      "execution_count": null,
      "metadata": {
        "id": "zDh_56MBoC7x"
      },
      "outputs": [],
      "source": [
        "from sklearn.preprocessing import StandardScaler\n",
        "from sklearn.preprocessing import MinMaxScaler\n",
        "\n",
        "scaler = StandardScaler()\n",
        "scaler.fit(X_treino)\n",
        "X_norm_treino = scaler.transform(X_treino)"
      ]
    },
    {
      "cell_type": "code",
      "execution_count": null,
      "metadata": {
        "id": "TSjTzwu2oC7y"
      },
      "outputs": [],
      "source": [
        "X_norm_treino = pd.DataFrame(X_norm_treino)"
      ]
    },
    {
      "cell_type": "code",
      "execution_count": null,
      "metadata": {
        "id": "uy0fkKBZoC7y"
      },
      "outputs": [],
      "source": [
        "X_norm_teste = scaler.transform(X_teste)\n",
        "X_norm_teste = pd.DataFrame(X_norm_teste)"
      ]
    },
    {
      "cell_type": "code",
      "execution_count": null,
      "metadata": {
        "id": "1l92VS5YMnwq"
      },
      "outputs": [],
      "source": [
        "from sklearn.neural_network import MLPClassifier\n",
        "from sklearn.model_selection import KFold\n",
        "from sklearn.model_selection import RandomizedSearchCV\n",
        "\n",
        "mlp = MLPClassifier(random_state=42, verbose=True, tol=0.00001, n_iter_no_change=20)\n",
        "kf = KFold(n_splits=5)\n",
        "param_rand = {'hidden_layer_sizes':[(100,),(50,),(25,),(200,)],\n",
        "              'max_iter':[1000, 1500, 2000],\n",
        "              'activation': ['tanh', 'relu']}\n",
        "\n",
        "rs = RandomizedSearchCV(estimator=mlp, param_distributions=param_rand, cv=kf,\n",
        "                  scoring='accuracy', n_iter=10)\n",
        "\n",
        "mlp_randomcv = rs.fit(X_norm_treino, y_treino)"
      ]
    },
    {
      "cell_type": "code",
      "execution_count": null,
      "metadata": {
        "id": "6Gx4mMyuMnws"
      },
      "outputs": [],
      "source": [
        "mlp_randomcv.best_params_"
      ]
    },
    {
      "cell_type": "code",
      "execution_count": null,
      "metadata": {
        "id": "WeiGmQkpMnwv"
      },
      "outputs": [],
      "source": [
        "mlp_randomcv.best_score_"
      ]
    },
    {
      "cell_type": "code",
      "execution_count": null,
      "metadata": {
        "id": "E_ay9U4NMnwx"
      },
      "outputs": [],
      "source": [
        "mlp_otima = MLPClassifier().set_params(**mlp_randomcv.best_params_)\n",
        "\n",
        "mlp_otima.fit(X_norm_treino, y_treino)\n",
        "mlp_otima.score(X_norm_treino, y_treino)"
      ]
    },
    {
      "cell_type": "code",
      "execution_count": null,
      "metadata": {
        "id": "FKQk_YqtMnwy"
      },
      "outputs": [],
      "source": [
        "mlp_otima.score(X_norm_teste, y_teste)"
      ]
    },
    {
      "cell_type": "code",
      "execution_count": null,
      "metadata": {
        "id": "0JLuN63oMnw1"
      },
      "outputs": [],
      "source": [
        "y_treino_pred = mlp_otima.predict(X_norm_treino)"
      ]
    },
    {
      "cell_type": "code",
      "execution_count": null,
      "metadata": {
        "id": "OjUC3kvnMnw2"
      },
      "outputs": [],
      "source": [
        "from sklearn.metrics import classification_report\n",
        "\n",
        "target_names = ['Disfonia', 'Saudável', 'Laringite']\n",
        "print(classification_report(y_treino, y_treino_pred, target_names=target_names))"
      ]
    },
    {
      "cell_type": "code",
      "execution_count": null,
      "metadata": {
        "id": "VIzkmin6Mnw3"
      },
      "outputs": [],
      "source": [
        "y_teste_pred = mlp_otima.predict(X_norm_teste)"
      ]
    },
    {
      "cell_type": "code",
      "execution_count": null,
      "metadata": {
        "id": "4daM8C0SMnw4"
      },
      "outputs": [],
      "source": [
        "from sklearn.metrics import classification_report\n",
        "\n",
        "target_names = ['Disfonia', 'Saudável', 'Laringite']\n",
        "print(classification_report(y_teste, y_teste_pred, target_names=target_names))"
      ]
    },
    {
      "cell_type": "code",
      "execution_count": null,
      "metadata": {
        "id": "ycjDhWx2Mnw5"
      },
      "outputs": [],
      "source": []
    }
  ]
}