{
  "nbformat": 4,
  "nbformat_minor": 0,
  "metadata": {
    "coursera": {
      "course_slug": "neural-networks-deep-learning",
      "graded_item_id": "XaIWT",
      "launcher_item_id": "zAgPl"
    },
    "kernelspec": {
      "display_name": "Python 3",
      "language": "python",
      "name": "python3"
    },
    "language_info": {
      "codemirror_mode": {
        "name": "ipython",
        "version": 3
      },
      "file_extension": ".py",
      "mimetype": "text/x-python",
      "name": "python",
      "nbconvert_exporter": "python",
      "pygments_lexer": "ipython3",
      "version": "3.5.2"
    },
    "colab": {
      "provenance": [],
      "collapsed_sections": [
        "q7zqPkOVogDY",
        "wyK70Rt0ogDc",
        "CsBFOGadogD1",
        "z9K5-xBxogE-"
      ]
    }
  },
  "cells": [
    {
      "cell_type": "markdown",
      "metadata": {
        "id": "iVwSoAFDogDX"
      },
      "source": [
        "## Regressão logística para classificação de imagens\n",
        "\n",
        "Você irá construir um classificador baseado em regressão logística para reconhecer gatos. Este exercício irá mostrar os passos necessários.\n",
        "\n",
        "**Você irá aprender a:**\n",
        "- Construir a arquitetura geral de um algoritmo que aprende por experiência (regressão logística), incluindo:\n",
        "    - Inicialização dos parâmetros\n",
        "    - Utilização de um algoritmo de otimização"
      ]
    },
    {
      "cell_type": "markdown",
      "metadata": {
        "id": "q7zqPkOVogDY"
      },
      "source": [
        "## 1 - Conexão ao Google Drive e Pacotes ##\n",
        "\n",
        "Primeiramente, vamos executar as células abaixo para conectar ao Google Drive, importar todos os pacotes que você precisará durante o exercício, e \"compilar\" a função que carrega a base de dados (treino e teste).\n",
        "- [numpy](www.numpy.org) é um pacote fundamental para computação científica em Python.\n",
        "- [h5py](http://www.h5py.org) é um pacote comum para interagir com uma base de dados armazenada em um arquivo H5.\n",
        "- [matplotlib](http://matplotlib.org) é uma biblioteca famosa para plotar gráficos em Python.\n",
        "- [PIL](http://www.pythonware.com/products/pil/) e [scipy](https://www.scipy.org/) são usados aqui para testar o seu modelo vetorizado com sua própria imagem ao fim do exercício."
      ]
    },
    {
      "cell_type": "code",
      "metadata": {
        "id": "HxOcNeQtdhHA"
      },
      "source": [
        "from google.colab import drive\n",
        "drive.mount('/content/drive')\n",
        "# 1 - Dê a permissão\n",
        "# 2 - Copie e cole o código gerado\n",
        "# 3 - Coloque as pastas \"datasets\" e \"images\" no diretório raíz do drive"
      ],
      "execution_count": null,
      "outputs": []
    },
    {
      "cell_type": "code",
      "metadata": {
        "id": "34R2ZMu7ogDZ"
      },
      "source": [
        "import numpy as np\n",
        "import matplotlib.pyplot as plt\n",
        "import h5py\n",
        "import PIL\n",
        "import scipy\n",
        "from scipy import ndimage\n",
        "\n",
        "%matplotlib inline"
      ],
      "execution_count": null,
      "outputs": []
    },
    {
      "cell_type": "code",
      "metadata": {
        "id": "xpTI1nEMewbw"
      },
      "source": [
        "def load_dataset():\n",
        "    train_dataset = h5py.File('/content/drive/My Drive/datasets/train_catvnoncat.h5', \"r\")\n",
        "    train_set_x_orig = np.array(train_dataset[\"train_set_x\"][:]) # your train set features\n",
        "    train_set_y_orig = np.array(train_dataset[\"train_set_y\"][:]) # your train set labels\n",
        "\n",
        "    test_dataset = h5py.File('/content/drive/My Drive/datasets/test_catvnoncat.h5', \"r\")\n",
        "    test_set_x_orig = np.array(test_dataset[\"test_set_x\"][:]) # your test set features\n",
        "    test_set_y_orig = np.array(test_dataset[\"test_set_y\"][:]) # your test set labels\n",
        "\n",
        "    classes = np.array(test_dataset[\"list_classes\"][:]) # the list of classes\n",
        "\n",
        "    train_set_y_orig = train_set_y_orig.reshape((1, train_set_y_orig.shape[0]))\n",
        "    test_set_y_orig = test_set_y_orig.reshape((1, test_set_y_orig.shape[0]))\n",
        "\n",
        "    return train_set_x_orig, train_set_y_orig, test_set_x_orig, test_set_y_orig, classes"
      ],
      "execution_count": null,
      "outputs": []
    },
    {
      "cell_type": "markdown",
      "metadata": {
        "collapsed": true,
        "id": "wyK70Rt0ogDc"
      },
      "source": [
        "## 2 - Visão geral do problema ##\n",
        "\n",
        "**Enunciado do Problema**: Lhe foi dada uma base de dados (\"data.h5\") contendo:\n",
        "\n",
        "- Um conjunto de treinamento com m_train imagens rotuladas como cat (y=1) ou non-cat (y=0)\n",
        "\n",
        "- Um conjunto de teste com m_test imagens rotuladas como cat ou non-cat\n",
        "\n",
        "- Cada imagem possui as dimensões (num_px, num_px, 3), onde 3 é para os 3 canais RGB. Assim, cada imagem é quadrada (altura = num_px e largura = num_px).\n",
        "\n",
        "Você irá construir um simples algoritmo reconhecedor de imagens que pode classificar corretamente imagens como cat ou non-cat.\n",
        "\n",
        "Vamos ganhar familiaridade com a base de dados. Carregue os dados executando a célula a seguir."
      ]
    },
    {
      "cell_type": "code",
      "metadata": {
        "id": "xdbxshPOogDd"
      },
      "source": [
        "# Carrega os dados (cat/non-cat)\n",
        "train_set_x_orig, train_set_y, test_set_x_orig, test_set_y, classes = load_dataset()"
      ],
      "execution_count": null,
      "outputs": []
    },
    {
      "cell_type": "markdown",
      "metadata": {
        "id": "VAaFzczaogDg"
      },
      "source": [
        "Nós adicionamos \"_orig\" no final da base de dados de imagens (train e test) porque iremos realizar um pré-processamento nelas. Depois do pré-processamento, ficaremos com train_set_x e test_set_x (os rótulos train_set_y e test_set_y não necessitam de qualquer pré-processamento).\n",
        "\n",
        "Cada linha de train_set_x_orig e test_set_x_orig é um vetor representando uma imagem. Você pode visualizar um exemplo executando a célula abaixo. Sinta-se a vontade também para modificar o valor da variável `index` e executar novamente para ver outra imagem."
      ]
    },
    {
      "cell_type": "code",
      "metadata": {
        "id": "UaqQq98IogDi"
      },
      "source": [
        "# Exemplo de imagem\n",
        "index = 7\n",
        "plt.imshow(train_set_x_orig[index])\n",
        "print (\"y = \" + str(train_set_y[:, index]) + \", é uma imagem '\" + classes[np.squeeze(train_set_y[:, index])].decode(\"utf-8\") +  \"'.\")"
      ],
      "execution_count": null,
      "outputs": []
    },
    {
      "cell_type": "markdown",
      "metadata": {
        "id": "PU6Gip7YogDl"
      },
      "source": [
        "Vários bugs em vetorização advêm de problemas com dimensões de matrizes e vetores que não combinam. Se você puder se certificar que as dimensões de suas matrizes/vetores estão corretas, você eliminará vários bugs.\n",
        "\n",
        "**Exercício:** Encontre os valores para:\n",
        "  - m_train (número de exemplos de treinamento)\n",
        "  - m_test (número de exemplos de teste)\n",
        "  - num_px (= altura = largura da imagem de treinamento)\n",
        "\n",
        "Lembre-se que `train_set_x_orig` é um vetor numpy com shape (m_train, num_px, num_px, 3). Por exemplo, você pode acessar `m_train` escrevendo `train_set_x_orig.shape[0]`."
      ]
    },
    {
      "cell_type": "code",
      "metadata": {
        "scrolled": true,
        "id": "fwl4FrnsogDm"
      },
      "source": [
        "# m_train =\n",
        "# m_test =\n",
        "# num_px =\n",
        "\n",
        "print (\"Número de exemplos para treino: m_train = \" + str(m_train))\n",
        "print (\"Número de exemplos para teste: m_test = \" + str(m_test))\n",
        "print (\"Altura/Largura de cada imagem: num_px = \" + str(num_px))\n",
        "print (\"Cada imagem tem o tamanho de: (\" + str(num_px) + \", \" + str(num_px) + \", 3)\")\n",
        "print (\"train_set_x shape: \" + str(train_set_x_orig.shape))\n",
        "print (\"train_set_y shape: \" + str(train_set_y.shape))\n",
        "print (\"test_set_x shape: \" + str(test_set_x_orig.shape))\n",
        "print (\"test_set_y shape: \" + str(test_set_y.shape))"
      ],
      "execution_count": null,
      "outputs": []
    },
    {
      "cell_type": "markdown",
      "metadata": {
        "id": "Pz-z-anQogDp"
      },
      "source": [
        "**Saída esperada para m_train, m_test and num_px**:\n",
        "<table style=\"width:15%\">\n",
        "  <tr>\n",
        "    <td>**m_train**</td>\n",
        "    <td> 209 </td>\n",
        "  </tr>\n",
        "  \n",
        "  <tr>\n",
        "    <td>**m_test**</td>\n",
        "    <td> 50 </td>\n",
        "  </tr>\n",
        "  \n",
        "  <tr>\n",
        "    <td>**num_px**</td>\n",
        "    <td> 64 </td>\n",
        "  </tr>\n",
        "  \n",
        "</table>\n"
      ]
    },
    {
      "cell_type": "markdown",
      "metadata": {
        "id": "zht7j_OuogDq"
      },
      "source": [
        "Por conveniência, você deve agora reorganizar as dimensões originais (num_px, num_px, 3) em um vetor numpy de dimensões (num_px $*$ num_px $*$ 3, 1). Depois disso, nossa base de dados de treinamento (e de teste) será composta por vetores-coluna, onde cada coluna representa uma imagem. Devem haver m_train (respectivamente m_test) colunas.\n",
        "\n",
        "**Exercício:** Reorganize as bases de dados de treinamento e teste tal que imagens de dimensões (num_px, num_px, 3) são reorganizadas em vetores-coluna com dimensões (num\\_px $*$ num\\_px $*$ 3, 1)."
      ]
    },
    {
      "cell_type": "code",
      "metadata": {
        "id": "wNc-tQGwogDr"
      },
      "source": [
        "# Reshape dos exemplos de treino e teste\n",
        "\n",
        "train_set_x_flatten = train_set_x_orig.reshape(train_set_x_orig.shape[0], -1).T\n",
        "test_set_x_flatten = test_set_x_orig.reshape(test_set_x_orig.shape[0], -1).T\n",
        "\n",
        "print (\"train_set_x_flatten shape: \" + str(train_set_x_flatten.shape))\n",
        "print (\"train_set_y shape: \" + str(train_set_y.shape))\n",
        "print (\"test_set_x_flatten shape: \" + str(test_set_x_flatten.shape))\n",
        "print (\"test_set_y shape: \" + str(test_set_y.shape))\n",
        "print (\"sanity check after reshaping: \" + str(train_set_x_flatten[0:5,0]))"
      ],
      "execution_count": null,
      "outputs": []
    },
    {
      "cell_type": "markdown",
      "metadata": {
        "id": "yH2HupwsogDu"
      },
      "source": [
        "**Expected Output**:\n",
        "\n",
        "<table style=\"width:35%\">\n",
        "  <tr>\n",
        "    <td>**train_set_x_flatten shape**</td>\n",
        "    <td> (12288, 209)</td>\n",
        "  </tr>\n",
        "  <tr>\n",
        "    <td>**train_set_y shape**</td>\n",
        "    <td>(1, 209)</td>\n",
        "  </tr>\n",
        "  <tr>\n",
        "    <td>**test_set_x_flatten shape**</td>\n",
        "    <td>(12288, 50)</td>\n",
        "  </tr>\n",
        "  <tr>\n",
        "    <td>**test_set_y shape**</td>\n",
        "    <td>(1, 50)</td>\n",
        "  </tr>\n",
        "  <tr>\n",
        "  <td>**sanity check after reshaping**</td>\n",
        "  <td>[17 31 56 22 33]</td>\n",
        "  </tr>\n",
        "</table>"
      ]
    },
    {
      "cell_type": "markdown",
      "metadata": {
        "id": "VMofzY-gogDv"
      },
      "source": [
        "Para representar imagens coloridas, os canais vermelho, verde e azul (RGB) devem ser especificados para cada pixel, e então o valor do pixel é na verdade um vetor de três números variando de 0 até 255.\n",
        "\n",
        "Uma etapa de pré-processamento comum é centralizar e padronizar a base de dados, o que significa que você subtrairá a média (de todo o vetor numpy) de cada exemplo, e então dividirá cada exemplo pelo desvio padrão (de todo o vetor numpy). Porém, para bases de dados de imagens, é mais simples e conveniente dividir todas as linhas da base de dados por 255 (o valor máximo de um canal de pixels).\n",
        "\n",
        "<!-- Durante o treinamento do seu algoritmo, você irá multiplicar pesos e adicionar bias a algumas entradas iniciais para observar ativações de neurônios. Então você retropropagará (backpropagate) com os gradientes para treinar o algoritmo. Contudo, é extremamente importante para cada característica estar em um intervalo similar tal que os gradientes não \"explodam\". !-->\n",
        "\n",
        "Vamos padronizar nossa base de dados."
      ]
    },
    {
      "cell_type": "code",
      "metadata": {
        "id": "0uuWN6EDogDv"
      },
      "source": [
        "train_set_x = train_set_x_flatten/255.\n",
        "test_set_x = test_set_x_flatten/255."
      ],
      "execution_count": null,
      "outputs": []
    },
    {
      "cell_type": "markdown",
      "metadata": {
        "id": "7jTNnXQDogD0"
      },
      "source": [
        "<font color='blue'>\n",
        "**O que você precisa relembrar:**\n",
        "\n",
        "Passos comuns para pré-processar uma nova base de dados são:\n",
        "- Verificar as dimensões (m_train, m_test, num_px, ...)\n",
        "- Organizar as bases de dados de treino e teste tal que cada exemplo é agora um vetor de dimensões (num_px \\* num_px \\* 3, 1)\n",
        "- \"Padronizar\" seu dados"
      ]
    },
    {
      "cell_type": "markdown",
      "metadata": {
        "id": "CsBFOGadogD1"
      },
      "source": [
        "## 3 - Arquitetura geral do algoritmo ##\n",
        "\n",
        "Vamos projetar um algoritmo simples para distinguir entre imagens de gatos e outras imagens (não-gato).\n",
        "\n",
        "Você irá construir um regressão logística, usando a ideia de rede neural. A figura a seguir explicar a razão de **Regressão logística na verdade ser um rede neural simples!**\n",
        "\n",
        "![alt text](https://static.wixstatic.com/media/84399a_cd34c66a1b9d434ea37417fda650abb3~mv2.png/v1/fill/w_750,h_583,al_c,q_85,usm_0.66_1.00_0.01/84399a_cd34c66a1b9d434ea37417fda650abb3~mv2.webp)\n"
      ]
    },
    {
      "cell_type": "code",
      "metadata": {
        "id": "GPMZ7Xn-s9KD"
      },
      "source": [
        "from sklearn.linear_model import LogisticRegression\n",
        "\n",
        "# Organiza os dados no formato do framework sklearn\n",
        "X_treino = train_set_x.T\n",
        "y_treino = np.squeeze(train_set_y)\n",
        "X_teste = test_set_x.T\n",
        "y_teste = np.squeeze(test_set_y)\n",
        "\n",
        "# Cria um modelo de regressao logistica e o treina com os dados (X, y)\n",
        "logreg = LogisticRegression()\n",
        "logreg.fit(X_treino, y_treino)"
      ],
      "execution_count": null,
      "outputs": []
    },
    {
      "cell_type": "code",
      "source": [
        "#TREINO\n",
        "from sklearn.metrics import classification_report\n",
        "\n",
        "ytr = y_treino\n",
        "ytr_pred = logreg.predict(X_treino)\n",
        "print(classification_report(ytr, ytr_pred, target_names=classes))"
      ],
      "metadata": {
        "id": "ruYcUkBEDf3S"
      },
      "execution_count": null,
      "outputs": []
    },
    {
      "cell_type": "code",
      "source": [
        "#TESTE\n",
        "from sklearn.metrics import classification_report\n",
        "\n",
        "yte = y_teste\n",
        "yte_pred = logreg.predict(X_teste)\n",
        "print(classification_report(yte, yte_pred, target_names=classes))"
      ],
      "metadata": {
        "id": "-FwVzUCeC5Fk"
      },
      "execution_count": null,
      "outputs": []
    },
    {
      "cell_type": "code",
      "source": [
        "#visualizacao da matriz de confusao\n",
        "from sklearn.metrics import confusion_matrix\n",
        "from sklearn.metrics import ConfusionMatrixDisplay\n",
        "\n",
        "cm = confusion_matrix(yte, yte_pred)\n",
        "disp = ConfusionMatrixDisplay(confusion_matrix=cm, display_labels=logreg.classes_)\n",
        "disp.plot()"
      ],
      "metadata": {
        "id": "v7iN6musDtj7"
      },
      "execution_count": null,
      "outputs": []
    },
    {
      "cell_type": "markdown",
      "metadata": {
        "collapsed": true,
        "id": "z9K5-xBxogE-"
      },
      "source": [
        "## 4 - Teste com sua própria imagem ##\n",
        "\n",
        "Você pode usar sua própria imagem e verificar a saída do seu modelo. Para fazer isso:\n",
        "    \n",
        "  1. Altere a variável `my_image` para o nome de uma imagem que esteja dentro da pasta `images` (pasta que está no seu drive).\n",
        "  2. Execute o código e verifique se o algoritmo acerta (1 = cat, 0 = non-cat)."
      ]
    },
    {
      "cell_type": "code",
      "metadata": {
        "scrolled": false,
        "id": "2SZ5iOg4ogFA"
      },
      "source": [
        "from keras.preprocessing.image import load_img\n",
        "from keras.preprocessing.image import img_to_array\n",
        "\n",
        "## (PUT YOUR IMAGE NAME)\n",
        "#my_image = \"my_image.jpg\"   # change this to the name of your image file\n",
        "my_image = \"my_image2.jpg\"   # change this to the name of your image file\n",
        "#my_image = \"la_defense.jpg\"   # change this to the name of your image file\n",
        "#my_image = \"gargouille.jpg\"   # change this to the name of your image file\n",
        "#my_image = \"cat_in_iran.jpg\"   # change this to the name of your image file\n",
        "\n",
        "# Processa nova imagem para ser entrada do algoritmo\n",
        "fname = \"/content/drive/My Drive/images/\" + my_image\n",
        "img = load_img(fname, target_size = (num_px, num_px))\n",
        "my_image = img_to_array(img).reshape((1, num_px*num_px*3)).T\n",
        "X_nova_img = my_image.T\n",
        "my_predicted_image = logreg.predict(X_nova_img) #predict diferente de score()\n",
        "\n",
        "plt.imshow(img)\n",
        "print(\"y = \" + str(np.squeeze(my_predicted_image)) + \", seu algoritmo preveu uma imagem \\\"\" + classes[int(np.squeeze(my_predicted_image)),].decode(\"utf-8\") +  \"\\\".\")"
      ],
      "execution_count": null,
      "outputs": []
    }
  ]
}