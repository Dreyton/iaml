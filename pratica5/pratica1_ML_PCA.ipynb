{
  "nbformat": 4,
  "nbformat_minor": 0,
  "metadata": {
    "colab": {
      "provenance": [],
      "collapsed_sections": [
        "gMhHwJgsDs2k",
        "Ovyo_ZHSZ4AV",
        "-o9hNd3HEAiJ"
      ]
    },
    "kernelspec": {
      "name": "python3",
      "display_name": "Python 3"
    },
    "language_info": {
      "name": "python"
    }
  },
  "cells": [
    {
      "cell_type": "markdown",
      "metadata": {
        "id": "3ccVSTq-DtsD"
      },
      "source": [
        "# **Exemplo de aplicação de PCA no dataset Breast Cancer**"
      ]
    },
    {
      "cell_type": "markdown",
      "metadata": {
        "id": "gMhHwJgsDs2k"
      },
      "source": [
        "# **Breast Cancer dataset**"
      ]
    },
    {
      "cell_type": "markdown",
      "metadata": {
        "id": "uT1RbgYl7mCq"
      },
      "source": [
        "**O dataset [Breast Cancer](https://scikit-learn.org/stable/modules/generated/sklearn.datasets.load_breast_cancer.html#sklearn.datasets.load_breast_cancer) representa 2 tipos de câncer de mama (maligno e benigno) com 30 atributos/características/features**"
      ]
    },
    {
      "cell_type": "code",
      "metadata": {
        "id": "Irdx-7uaJduC"
      },
      "source": [
        "import matplotlib.pyplot as plt\n",
        "from mpl_toolkits.mplot3d import Axes3D\n",
        "from sklearn import datasets\n",
        "from sklearn.decomposition import PCA\n",
        "from sklearn.datasets import load_breast_cancer\n",
        "\n",
        "# importar os dados\n",
        "bc = load_breast_cancer()\n",
        "\n",
        "print(bc.target[[10, 50, 85]]) #mostra as classes de alguns exemplos\n",
        "\n",
        "print(list(bc.target_names)) #apresenta as classes\n",
        "\n",
        "print(bc.data[:5, :], end='\\n\\n') # os 5 primeiros exemplos com 30 features"
      ],
      "execution_count": null,
      "outputs": []
    },
    {
      "cell_type": "code",
      "metadata": {
        "id": "pUoQXlM_DlVY"
      },
      "source": [
        "X = bc.data[:,:2] # todos os exemplos com 2 features\n",
        "y = bc.target\n",
        "\n",
        "# Definir os limites dos eixos x e y (opcional)\n",
        "x_min, x_max = X[:, 0].min() - .5, X[:, 0].max() + .5\n",
        "y_min, y_max = X[:, 1].min() - .5, X[:, 1].max() + .5\n",
        "\n",
        "# Criar uma figura\n",
        "plt.figure(2, figsize=(8, 6))\n",
        "plt.clf()\n",
        "\n",
        "# Plotar os dados de treino em 2D, considerando a base de dados X com 2 features\n",
        "plt.scatter(X[:, 0], X[:, 1], c=y, cmap=plt.cm.Set1,\n",
        "            edgecolor='k')\n",
        "plt.xlabel('Raio')\n",
        "plt.ylabel('Textura')\n",
        "\n",
        "plt.xlim(x_min, x_max)\n",
        "plt.ylim(y_min, y_max)\n",
        "plt.xticks(())\n",
        "plt.yticks(())\n",
        "plt.show()\n"
      ],
      "execution_count": null,
      "outputs": []
    },
    {
      "cell_type": "markdown",
      "metadata": {
        "id": "Ovyo_ZHSZ4AV"
      },
      "source": [
        "# **Aplicação de [PCA](https://scikit-learn.org/stable/modules/generated/sklearn.decomposition.PCA.html#sklearn.decomposition.PCA) para visualização**"
      ]
    },
    {
      "cell_type": "markdown",
      "metadata": {
        "id": "RPMgOVnLaBra"
      },
      "source": [
        "**2D**"
      ]
    },
    {
      "cell_type": "code",
      "metadata": {
        "id": "6JlFCJKGZ8c6"
      },
      "source": [
        "import matplotlib.pyplot as plt\n",
        "\n",
        "from sklearn import datasets\n",
        "from sklearn.decomposition import PCA\n",
        "\n",
        "bc = load_breast_cancer() #carrega a base de dados breast cancer\n",
        "\n",
        "X = bc.data #essa base de dados possui 30 caracteristicas/atributos, 30 dimensoes\n",
        "y = bc.target\n",
        "target_names = bc.target_names\n",
        "\n",
        "#o humano consegue visualizar apenas 1D, 2D ou 3D, entao aplicamos PCA\n",
        "pca = PCA(n_components=2) #criando o meu modelo\n",
        "X_r = pca.fit(X).transform(X) # treinando o meu modelo e transformando os dados (30D -> 2D)\n",
        "\n",
        "plt.figure()\n",
        "colors = ['navy', 'darkorange'] #escolher qtd de cores de acordo com #classes\n",
        "lw = 2\n",
        "\n",
        "for color, i, target_name in zip(colors, [0, 1, 2], target_names):\n",
        "    plt.scatter(X_r[y == i, 0], X_r[y == i, 1], color=color, alpha=.8, lw=lw,\n",
        "                label=target_name)\n",
        "plt.legend(loc='best', shadow=False, scatterpoints=1)\n",
        "plt.title('PCA no dataset Breast Cancer')\n",
        "\n",
        "plt.show()\n",
        "\n",
        "# Porcentagem de variancia/variabilidade explicada por cada componente\n",
        "print('taxa de variancia explicada (primeiros 2 componentes): %s'\n",
        "      % str(pca.explained_variance_ratio_))\n",
        "\n",
        "# Porcentagem total de variancia retida\n",
        "import numpy as np\n",
        "print('taxa de variancia total retida: %s'\n",
        "      % str(np.sum(pca.explained_variance_ratio_)))"
      ],
      "execution_count": null,
      "outputs": []
    },
    {
      "cell_type": "markdown",
      "metadata": {
        "id": "e9SvOFM5aEk0"
      },
      "source": [
        "**3D**"
      ]
    },
    {
      "cell_type": "code",
      "metadata": {
        "id": "ZnlZWyvZaGi3"
      },
      "source": [
        "import matplotlib.pyplot as plt\n",
        "\n",
        "from sklearn import datasets\n",
        "from sklearn.decomposition import PCA\n",
        "from mpl_toolkits.mplot3d import Axes3D\n",
        "\n",
        "bc = load_breast_cancer() #carrega a base de dados breast cancer\n",
        "\n",
        "X = bc.data #essa base de dados possui 30 caracteristicas/atributos, 30 dimensoes\n",
        "y = bc.target\n",
        "target_names = bc.target_names\n",
        "\n",
        "#o humano consegue visualizar apenas 1D, 2D ou 3D, entao aplicamos PCA\n",
        "pca = PCA(n_components=3)\n",
        "X_r = pca.fit(X).transform(X)\n",
        "\n",
        "fig = plt.figure(1, figsize=(8, 6))\n",
        "ax = Axes3D(fig, elev=-150, azim=110)\n",
        "\n",
        "ax.scatter(X_r[:, 0], X_r[:, 1], X_r[:, 2], c=y,\n",
        "           cmap=plt.cm.Set1, edgecolor='k', s=40)\n",
        "ax.set_title(\"PCA no dataset Breast Cancer\")\n",
        "ax.set_xlabel(\"Componente 1\")\n",
        "ax.w_xaxis.set_ticklabels([])\n",
        "ax.set_ylabel(\"Componente 2\")\n",
        "ax.w_yaxis.set_ticklabels([])\n",
        "ax.set_zlabel(\"Componente 3\")\n",
        "ax.w_zaxis.set_ticklabels([])\n",
        "plt.show()\n",
        "\n",
        "# Porcentagem de variancia/variabilidade explicada por cada componente\n",
        "print('taxa de variancia explicada (primeiros 3 componentes): %s'\n",
        "      % str(pca.explained_variance_ratio_))\n",
        "\n",
        "# Porcentagem total de variancia retida\n",
        "import numpy as np\n",
        "print('taxa de variancia total retida: %s'\n",
        "      % str(np.sum(pca.explained_variance_ratio_)))"
      ],
      "execution_count": null,
      "outputs": []
    },
    {
      "cell_type": "markdown",
      "metadata": {
        "id": "-o9hNd3HEAiJ"
      },
      "source": [
        "# **Aplicação de [PCA](https://scikit-learn.org/stable/modules/generated/sklearn.decomposition.PCA.html#sklearn.decomposition.PCA) para acelerar a classificação**"
      ]
    },
    {
      "cell_type": "markdown",
      "metadata": {
        "id": "RB53QuKzLAxd"
      },
      "source": [
        "**Treinando e testando (dividindo a base de dados)**"
      ]
    },
    {
      "cell_type": "code",
      "metadata": {
        "id": "WcpfvZPILBfT"
      },
      "source": [
        "import numpy as np\n",
        "from sklearn.neural_network import MLPClassifier\n",
        "from sklearn import datasets\n",
        "from sklearn.model_selection import train_test_split\n",
        "\n",
        "bc = load_breast_cancer() #carrega a base de dados breast cancer\n",
        "\n",
        "X = bc.data #essa base de dados possui 30 caracteristicas/atributos, 30 dimensoes\n",
        "y = bc.target\n",
        "target_names = bc.target_names\n",
        "\n",
        "# partir o conjunto de dados em treino e teste\n",
        "X_treino, X_teste, y_treino, y_teste = train_test_split(X, y, test_size=0.3, random_state=1)\n",
        "# Usar random_state\n",
        "\n",
        "#PCA nos dados de treino\n",
        "pca = PCA(n_components=2) #criando o meu modelo\n",
        "X_r_treino = pca.fit(X).transform(X_treino) # treinando o meu modelo e transformando os dados (30D -> 2D)\n",
        "\n",
        "#PCA nos dados de teste\n",
        "X_r_teste = pca.transform(X_teste)\n",
        "\n",
        "# Cria um modelo de RNA e o treina com os dados (X, y)\n",
        "mlp = MLPClassifier()\n",
        "%time mlp.fit(X_r_treino, y_treino)\n",
        "\n",
        "#Verifica acurácia nos dados de treino\n",
        "acc_treino = mlp.score(X_r_treino, y_treino)*100\n",
        "print(f'Acurácia no treino: {acc_treino:.2f}%')\n",
        "\n",
        "#Verifica acurácia nos dados de teste\n",
        "acc_teste = mlp.score(X_r_teste, y_teste)*100\n",
        "print(f'Acurácia no teste: {acc_teste:.2f}%')"
      ],
      "execution_count": null,
      "outputs": []
    },
    {
      "cell_type": "markdown",
      "metadata": {
        "id": "26r26hdWe6Lm"
      },
      "source": [
        "**Sem PCA**"
      ]
    },
    {
      "cell_type": "code",
      "metadata": {
        "id": "KOj0_ztie8Gp"
      },
      "source": [
        "import numpy as np\n",
        "from sklearn.neural_network import MLPClassifier\n",
        "from sklearn import datasets\n",
        "from sklearn.model_selection import train_test_split\n",
        "\n",
        "# importa os dados\n",
        "bc = load_breast_cancer()\n",
        "X = bc.data\n",
        "y = bc.target\n",
        "\n",
        "# partir o conjunto de dados em treino e teste\n",
        "X_treino, X_teste, y_treino, y_teste = train_test_split(X, y, test_size=0.3, random_state=1)\n",
        "# Usar random_state\n",
        "\n",
        "# Cria um modelo de RNA e o treina com os dados (X, y)\n",
        "mlp = MLPClassifier()\n",
        "%time mlp.fit(X_treino, y_treino)\n",
        "\n",
        "#Verifica acurácia nos dados de treino\n",
        "acc_treino = mlp.score(X_treino, y_treino)*100\n",
        "print(f'Acurácia no treino: {acc_treino:.2f}%')\n",
        "\n",
        "#Verifica acurácia nos dados de teste\n",
        "acc_teste = mlp.score(X_teste, y_teste)*100\n",
        "print(f'Acurácia no teste: {acc_teste:.2f}%')"
      ],
      "execution_count": null,
      "outputs": []
    }
  ]
}