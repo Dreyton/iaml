{
  "nbformat": 4,
  "nbformat_minor": 0,
  "metadata": {
    "colab": {
      "provenance": [],
      "collapsed_sections": [
        "rjoTVQ_dUyE4",
        "i-QlkQ3bU9pi"
      ]
    },
    "kernelspec": {
      "name": "python3",
      "display_name": "Python 3"
    },
    "language_info": {
      "name": "python"
    }
  },
  "cells": [
    {
      "cell_type": "markdown",
      "source": [
        "# **Bibliotecas comuns**"
      ],
      "metadata": {
        "id": "bU2gp5LXUOCo"
      }
    },
    {
      "cell_type": "code",
      "execution_count": null,
      "metadata": {
        "id": "aLUZgOfcRzLx"
      },
      "outputs": [],
      "source": [
        "import numpy as np\n",
        "from sklearn.model_selection import train_test_split\n",
        "from sklearn import datasets"
      ]
    },
    {
      "cell_type": "markdown",
      "source": [
        "# **Como temos feito...**"
      ],
      "metadata": {
        "id": "uw8jVCjZUSK8"
      }
    },
    {
      "cell_type": "code",
      "source": [
        "from sklearn.neural_network import MLPClassifier\n",
        "\n",
        "X, y = datasets.load_iris(return_X_y=True)\n",
        "print(X.shape, y.shape)"
      ],
      "metadata": {
        "id": "8b_byvIEUrpQ"
      },
      "execution_count": null,
      "outputs": []
    },
    {
      "cell_type": "code",
      "source": [
        "X_train, X_test, y_train, y_test = train_test_split(X, y, test_size=0.3, random_state=0)\n",
        "\n",
        "print(f'Train: {X_train.shape}, {y_train.shape}')\n",
        "\n",
        "print(f'Test: {X_test.shape}, {y_test.shape}')\n",
        "\n",
        "\n",
        "mlp = MLPClassifier(hidden_layer_sizes=(100,), max_iter=200,\n",
        "                    random_state=42).fit(X_train, y_train)\n",
        "mlp.score(X_test, y_test)"
      ],
      "metadata": {
        "id": "NF3FTh7-x3BT"
      },
      "execution_count": null,
      "outputs": []
    },
    {
      "cell_type": "markdown",
      "source": [
        "# **Aplicando cross-validation**"
      ],
      "metadata": {
        "id": "rjoTVQ_dUyE4"
      }
    },
    {
      "cell_type": "markdown",
      "source": [
        "**Basic**: When the cv argument is an integer, cross_val_score uses the KFold or StratifiedKFold strategies by default,"
      ],
      "metadata": {
        "id": "NjavZ0MEFEwe"
      }
    },
    {
      "cell_type": "code",
      "source": [
        "from sklearn.model_selection import cross_val_score\n",
        "\n",
        "mlp = MLPClassifier(hidden_layer_sizes=(100,), max_iter=200,\n",
        "                    random_state=42).fit(X_train, y_train)\n",
        "scores = cross_val_score(mlp, X_train, y_train, cv=5)\n",
        "scores"
      ],
      "metadata": {
        "id": "CIk9fQDyVG0P"
      },
      "execution_count": null,
      "outputs": []
    },
    {
      "cell_type": "code",
      "source": [
        "print(f'{scores.mean():0.2f} accuracy with a standard deviation of {scores.std():0.2f}')"
      ],
      "metadata": {
        "id": "Id9v23alCrCz"
      },
      "execution_count": null,
      "outputs": []
    },
    {
      "cell_type": "markdown",
      "source": [
        "**K-Fold**"
      ],
      "metadata": {
        "id": "MSR_INtJFrq2"
      }
    },
    {
      "cell_type": "code",
      "source": [
        "from sklearn.model_selection import KFold\n",
        "\n",
        "kf = KFold(n_splits=5)\n",
        "scores = cross_val_score(mlp, X_train, y_train, cv=kf)\n",
        "scores"
      ],
      "metadata": {
        "id": "0P0tCu4pDkU3"
      },
      "execution_count": null,
      "outputs": []
    },
    {
      "cell_type": "code",
      "source": [
        "print(f'{scores.mean():0.2f} accuracy with a standard deviation of {scores.std():0.2f}')"
      ],
      "metadata": {
        "id": "vZKwB09jE97Q"
      },
      "execution_count": null,
      "outputs": []
    },
    {
      "cell_type": "markdown",
      "source": [
        "**Stratified K-Fold**\n",
        "\n",
        "Each set contains approximately the same percentage of samples of each target class as the complete set\n",
        "\n"
      ],
      "metadata": {
        "id": "UPTDuxqvFwip"
      }
    },
    {
      "cell_type": "code",
      "source": [
        "from sklearn.model_selection import StratifiedKFold\n",
        "\n",
        "skf = StratifiedKFold(n_splits=5)\n",
        "scores = cross_val_score(mlp, X_train, y_train, cv=skf)\n",
        "scores"
      ],
      "metadata": {
        "id": "cAMNbwiyF1-l"
      },
      "execution_count": null,
      "outputs": []
    },
    {
      "cell_type": "code",
      "source": [
        "print(f'{scores.mean():0.2f} accuracy with a standard deviation of {scores.std():0.2f}')"
      ],
      "metadata": {
        "id": "gDCaUNiPF2V8"
      },
      "execution_count": null,
      "outputs": []
    },
    {
      "cell_type": "markdown",
      "source": [
        "**Multiple metrics with cross_validate**"
      ],
      "metadata": {
        "id": "9Z19Zu48GyI6"
      }
    },
    {
      "cell_type": "code",
      "source": [
        "from sklearn.metrics import get_scorer_names\n",
        "\n",
        "get_scorer_names()"
      ],
      "metadata": {
        "id": "6JtDfF4lHjbV"
      },
      "execution_count": null,
      "outputs": []
    },
    {
      "cell_type": "code",
      "source": [
        "from sklearn.model_selection import cross_validate\n",
        "scoring = ['precision_macro', 'recall_macro', 'accuracy']\n",
        "skf = StratifiedKFold(n_splits=5)\n",
        "scores = cross_validate(mlp, X_train, y_train, scoring=scoring, cv=skf)\n",
        "scores"
      ],
      "metadata": {
        "id": "WPCavkRiG3WW"
      },
      "execution_count": null,
      "outputs": []
    },
    {
      "cell_type": "code",
      "source": [
        "scores['test_precision_macro']"
      ],
      "metadata": {
        "id": "joN1ABRqHWlz"
      },
      "execution_count": null,
      "outputs": []
    },
    {
      "cell_type": "markdown",
      "source": [
        "# **Cross-validation + search para tuning de hiperparâmetros**"
      ],
      "metadata": {
        "id": "i-QlkQ3bU9pi"
      }
    },
    {
      "cell_type": "markdown",
      "source": [
        "**Grid search**"
      ],
      "metadata": {
        "id": "_njKp0lKBz_8"
      }
    },
    {
      "cell_type": "code",
      "source": [
        "from sklearn.neural_network import MLPClassifier\n",
        "from sklearn.model_selection import KFold\n",
        "from sklearn.model_selection import GridSearchCV\n",
        "\n",
        "mlp = MLPClassifier(random_state=42)\n",
        "kf = KFold(n_splits=5)\n",
        "param_grid = {'hidden_layer_sizes':[(100,),(50,),(25,),(50,25)],\n",
        "              'max_iter':[100, 200, 300, 400, 500]}\n",
        "\n",
        "gs = GridSearchCV(estimator=mlp, param_grid=param_grid, cv=kf,\n",
        "                  scoring='accuracy')\n",
        "\n",
        "mlp_gridcv = gs.fit(X_train, y_train)"
      ],
      "metadata": {
        "id": "c5wjU8Q3CQxS"
      },
      "execution_count": null,
      "outputs": []
    },
    {
      "cell_type": "code",
      "source": [
        "mlp_gridcv.best_params_"
      ],
      "metadata": {
        "id": "9Q9pNgcCOHY3"
      },
      "execution_count": null,
      "outputs": []
    },
    {
      "cell_type": "code",
      "source": [
        "mlp_gridcv.best_score_"
      ],
      "metadata": {
        "id": "iTKnmHsyObI5"
      },
      "execution_count": null,
      "outputs": []
    },
    {
      "cell_type": "code",
      "source": [
        "mlp_otima = MLPClassifier().set_params(**mlp_gridcv.best_params_)\n",
        "\n",
        "mlp_otima.fit(X_train, y_train)\n",
        "mlp_otima.score(X_test, y_test)"
      ],
      "metadata": {
        "id": "kL25i277Oepg"
      },
      "execution_count": null,
      "outputs": []
    },
    {
      "cell_type": "markdown",
      "source": [
        "**Randomized search**"
      ],
      "metadata": {
        "id": "oz_VBqglLK6i"
      }
    },
    {
      "cell_type": "code",
      "source": [
        "from sklearn.neural_network import MLPClassifier\n",
        "from sklearn.model_selection import KFold\n",
        "from sklearn.model_selection import RandomizedSearchCV\n",
        "\n",
        "mlp = MLPClassifier(random_state=42)\n",
        "kf = KFold(n_splits=5)\n",
        "param_rand = {'hidden_layer_sizes':[(100,),(50,),(25,),(50,25)],\n",
        "              'max_iter':[100, 200, 300, 400, 500]}\n",
        "\n",
        "rs = RandomizedSearchCV(estimator=mlp, param_distributions=param_rand, cv=kf,\n",
        "                  scoring='accuracy', n_iter=10)\n",
        "\n",
        "mlp_randomcv = rs.fit(X_train, y_train)"
      ],
      "metadata": {
        "id": "jbd3hH6SLNW7"
      },
      "execution_count": null,
      "outputs": []
    },
    {
      "cell_type": "code",
      "source": [
        "# import pandas as pd\n",
        "\n",
        "# pd.DataFrame(mlp_randomcv.cv_results_)"
      ],
      "metadata": {
        "id": "mAuSriEVPz93"
      },
      "execution_count": null,
      "outputs": []
    },
    {
      "cell_type": "code",
      "source": [
        "mlp_randomcv.best_params_"
      ],
      "metadata": {
        "id": "vajsAK-aPqlt"
      },
      "execution_count": null,
      "outputs": []
    },
    {
      "cell_type": "code",
      "source": [
        "mlp_randomcv.best_score_"
      ],
      "metadata": {
        "id": "kNEq3B66Ptqp"
      },
      "execution_count": null,
      "outputs": []
    },
    {
      "cell_type": "code",
      "source": [
        "mlp_otima = MLPClassifier().set_params(**mlp_randomcv.best_params_)\n",
        "\n",
        "mlp_otima.fit(X_train, y_train)\n",
        "mlp_otima.score(X_test, y_test)"
      ],
      "metadata": {
        "id": "3-irKmouPnLG"
      },
      "execution_count": null,
      "outputs": []
    }
  ]
}