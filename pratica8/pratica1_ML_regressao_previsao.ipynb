{
  "cells": [
    {
      "cell_type": "markdown",
      "metadata": {
        "id": "5joGVhddjotb"
      },
      "source": [
        "# Aula 1 - Modelo de Regressão"
      ]
    },
    {
      "cell_type": "markdown",
      "metadata": {
        "id": "NSNF4LNvjotg"
      },
      "source": [
        "## 1.1 Apresentação"
      ]
    },
    {
      "cell_type": "markdown",
      "metadata": {
        "id": "krWT41fAjoth"
      },
      "source": [
        "## 1.2 Carregando os dados\n",
        "\n",
        "[JSON Viewer](http://jsonviewer.stack.hu)\n",
        "\n",
        "[Pandas: read_json](https://pandas.pydata.org/docs/reference/api/pandas.read_json.html?highlight=read_json#pandas.read_json)\n"
      ]
    },
    {
      "cell_type": "code",
      "execution_count": null,
      "metadata": {
        "id": "RmPCUP27joti"
      },
      "outputs": [],
      "source": [
        "import pandas as pd\n",
        "import numpy as np"
      ]
    },
    {
      "cell_type": "code",
      "execution_count": null,
      "metadata": {
        "id": "QggfzZk1jotk"
      },
      "outputs": [],
      "source": [
        "dados = pd.read_json(\n",
        "    path_or_buf= '/content/imoveis.json',\n",
        "    orient='columns'\n",
        ")\n",
        "\n",
        "dados"
      ]
    },
    {
      "cell_type": "markdown",
      "metadata": {
        "id": "ummedWUBjotl"
      },
      "source": [
        "### Explorar as informações"
      ]
    },
    {
      "cell_type": "code",
      "execution_count": null,
      "metadata": {
        "id": "EO8_JLNzjotm"
      },
      "outputs": [],
      "source": [
        "dados.ident[0]"
      ]
    },
    {
      "cell_type": "code",
      "execution_count": null,
      "metadata": {
        "id": "P7kRk0zljotm"
      },
      "outputs": [],
      "source": [
        "dados.listing[0]"
      ]
    },
    {
      "cell_type": "markdown",
      "metadata": {
        "id": "i0ajVKZfjotn"
      },
      "source": [
        "## 1.3 Tratamento de dados inicial"
      ]
    },
    {
      "cell_type": "markdown",
      "metadata": {
        "id": "SNlALwsLjoto"
      },
      "source": [
        "### Normalização"
      ]
    },
    {
      "cell_type": "code",
      "execution_count": null,
      "metadata": {
        "id": "_FhPQDBbjotp"
      },
      "outputs": [],
      "source": [
        "dados_lista1 = pd.json_normalize(dados.ident)\n",
        "dados_lista1.head()"
      ]
    },
    {
      "cell_type": "code",
      "execution_count": null,
      "metadata": {
        "id": "p7UnhrX9jotp"
      },
      "outputs": [],
      "source": [
        "dados_lista2 = pd.json_normalize(dados.listing, sep='_')\n",
        "dados_lista2.head()"
      ]
    },
    {
      "cell_type": "markdown",
      "metadata": {
        "id": "DWqC5wd3jotq"
      },
      "source": [
        "### Junção dos dataframes"
      ]
    },
    {
      "cell_type": "code",
      "execution_count": null,
      "metadata": {
        "id": "VO8u42uxjotq"
      },
      "outputs": [],
      "source": [
        "dados_imoveis = pd.concat([dados_lista1, dados_lista2], axis=1)\n",
        "dados_imoveis.head()"
      ]
    },
    {
      "cell_type": "code",
      "execution_count": null,
      "metadata": {
        "id": "7LD3vrYikH-N"
      },
      "outputs": [],
      "source": [
        "dados_imoveis.shape"
      ]
    },
    {
      "cell_type": "code",
      "execution_count": null,
      "metadata": {
        "id": "h2uxFnNWjotr"
      },
      "outputs": [],
      "source": [
        "for coluna in dados_imoveis.columns:\n",
        "    print('========='*20)\n",
        "    print(dados_imoveis[coluna].value_counts())"
      ]
    },
    {
      "cell_type": "markdown",
      "metadata": {
        "id": "hht873Vzjott"
      },
      "source": [
        "## 1.4 Limpeza"
      ]
    },
    {
      "cell_type": "markdown",
      "metadata": {
        "id": "f2QL-757jotr"
      },
      "source": [
        "### Filtro"
      ]
    },
    {
      "cell_type": "code",
      "execution_count": null,
      "metadata": {
        "id": "tYvDwNlXjots"
      },
      "outputs": [],
      "source": [
        "filtro = (dados_imoveis['types_usage'] == 'Residencial') & (dados_imoveis['address_city'] ==  'Rio de Janeiro')\n",
        "\n",
        "#aplicando o filtro\n",
        "dados_imoveis = dados_imoveis[filtro]\n",
        "dados_imoveis.head()"
      ]
    },
    {
      "cell_type": "code",
      "source": [
        "dados_imoveis.shape"
      ],
      "metadata": {
        "id": "2JhcfgUuPNvs"
      },
      "execution_count": null,
      "outputs": []
    },
    {
      "cell_type": "markdown",
      "metadata": {
        "id": "MiQRemC5jott"
      },
      "source": [
        "### Tipos de variáveis"
      ]
    },
    {
      "cell_type": "code",
      "execution_count": null,
      "metadata": {
        "id": "I-BZG6ezjotu"
      },
      "outputs": [],
      "source": [
        "#atenção ao tipo das variáveis e o indice\n",
        "dados_imoveis.info()"
      ]
    },
    {
      "cell_type": "markdown",
      "metadata": {
        "id": "hvIqV8S1jotu"
      },
      "source": [
        "Verificando a saída do `.info`\n",
        "\n",
        "> 69588 entries, 0 to 73614\n",
        "\n",
        " percebemos que temos que resentar o index, para que as infos fiquem ordenadas corretamente.\n"
      ]
    },
    {
      "cell_type": "code",
      "execution_count": null,
      "metadata": {
        "id": "mjrFeD24jotu"
      },
      "outputs": [],
      "source": [
        "dados_imoveis.reset_index(drop=True, inplace=True)"
      ]
    },
    {
      "cell_type": "code",
      "execution_count": null,
      "metadata": {
        "id": "nHtAN-MSjotv"
      },
      "outputs": [],
      "source": [
        "#mostrar o RangeIndex\n",
        "dados_imoveis.info(verbose=False)"
      ]
    },
    {
      "cell_type": "markdown",
      "metadata": {
        "id": "FK5pkHOFjotv"
      },
      "source": [
        "Agora está correto."
      ]
    },
    {
      "cell_type": "code",
      "execution_count": null,
      "metadata": {
        "id": "kdfx3P_yjotv"
      },
      "outputs": [],
      "source": [
        "dados_imoveis = dados_imoveis.astype({\n",
        "    'prices_price': 'float64',\n",
        "    'prices_tax_iptu': 'float64',\n",
        "    'prices_tax_condo': 'float64',\n",
        "    'features_usableAreas': 'int64',\n",
        "    'features_totalAreas': 'int64',\n",
        "})\n",
        "\n",
        "dados_imoveis.info()"
      ]
    },
    {
      "cell_type": "markdown",
      "source": [
        "**Uma empresa que atua em estados do Brasil contratou você para tratar os dados dos clientes dela. Quando você recebe o DataFrame chamado clientes_capital, percebe que ele contém os dados de vários clientes que moram em capitais do Brasil. No entanto, foi notado que alguns clientes não tinham os estados correspondentes às suas capitais, conforme mostra a tabela abaixo:**"
      ],
      "metadata": {
        "id": "-X-PGK0E6KOl"
      }
    },
    {
      "cell_type": "code",
      "source": [
        "import pandas as pd\n",
        "from numpy import nan\n",
        "\n",
        "clientes_capital = pd.DataFrame({'Estados':['Ceará','Paraná','Piauí',nan,nan,'Roraima','São Paulo',nan,'Paraná','Piauí',nan,nan,'Minas Gerais',nan,'Piauí',nan,nan],\n",
        "                           'Capitais':['Fortaleza','Curitiba','Teresina','Boa Vista','Curitiba','Boa Vista','São Paulo','Teresina','Curitiba','Teresina','São Paulo','Fortaleza','Belo Horizonte','Curitiba','Teresina','Belo Horizonte','Fortaleza'],\n",
        "                           'id_clientes':[1830,3219,3149,3100,5754,648,3006,1139,2460,4748,2608,60,65,7457,3305,4397,3438]})\n",
        "\n",
        "clientes_capital"
      ],
      "metadata": {
        "id": "sYL6J0JM6GcA"
      },
      "execution_count": null,
      "outputs": []
    },
    {
      "cell_type": "markdown",
      "source": [
        "Não é desejado remover as linhas em branco de clientes_capital, então como você poderia construir o código para preencher os dados dos estados? Indique o código que substitui os dados corretamente."
      ],
      "metadata": {
        "id": "TUs9l3gK6P64"
      }
    },
    {
      "cell_type": "code",
      "source": [
        "filtro = ~clientes_capital['Estados'].isna()\n",
        "dic_sem_duplicatas = clientes_capital[filtro].drop_duplicates(subset=['Capitais']).to_dict('records')\n",
        "dic_sem_duplicatas"
      ],
      "metadata": {
        "id": "lzY5psZv6OLl"
      },
      "execution_count": null,
      "outputs": []
    },
    {
      "cell_type": "code",
      "source": [
        "dic_estado_capital = {selecao['Capitais']: selecao['Estados'] for selecao in dic_sem_duplicatas}\n",
        "dic_estado_capital"
      ],
      "metadata": {
        "id": "_PhzCv7E77vA"
      },
      "execution_count": null,
      "outputs": []
    },
    {
      "cell_type": "code",
      "source": [
        "for capital, estado in dic_estado_capital.items():\n",
        "  filtro = clientes_capital['Capitais'] == capital\n",
        "  clientes_capital.loc[filtro, 'Estados'] = estado\n",
        "clientes_capital"
      ],
      "metadata": {
        "id": "bhq6QFAU8cP7"
      },
      "execution_count": null,
      "outputs": []
    },
    {
      "cell_type": "markdown",
      "metadata": {
        "id": "ZQZNqAgJjot2"
      },
      "source": [
        "## 1.5 - Tratamento de dados final"
      ]
    },
    {
      "cell_type": "markdown",
      "metadata": {
        "id": "kvIsnpG0jotw"
      },
      "source": [
        "### Lidando com dados nulos"
      ]
    },
    {
      "cell_type": "markdown",
      "metadata": {
        "id": "yaysvPw2jotw"
      },
      "source": [
        "#### Dados nulos zone"
      ]
    },
    {
      "cell_type": "code",
      "execution_count": null,
      "metadata": {
        "id": "MN9Pci0_jotw"
      },
      "outputs": [],
      "source": [
        "dados_imoveis.address_zone.value_counts()"
      ]
    },
    {
      "cell_type": "code",
      "execution_count": null,
      "metadata": {
        "id": "s2PoMPrNjotw"
      },
      "outputs": [],
      "source": [
        "dados_imoveis['address_zone'] = dados_imoveis['address_zone'].replace('', np.nan)"
      ]
    },
    {
      "cell_type": "code",
      "execution_count": null,
      "metadata": {
        "id": "lRRIa3M5jotx"
      },
      "outputs": [],
      "source": [
        "#verificação\n",
        "dados_imoveis.address_zone.isnull().sum()"
      ]
    },
    {
      "cell_type": "code",
      "execution_count": null,
      "metadata": {
        "id": "eiNv690Fjotx"
      },
      "outputs": [],
      "source": [
        "#relação zona com bairro\n",
        "dados_imoveis.head()"
      ]
    },
    {
      "cell_type": "markdown",
      "source": [
        "Preencher a zona a partir da informação do bairro"
      ],
      "metadata": {
        "id": "GG52CfIs-5l8"
      }
    },
    {
      "cell_type": "code",
      "source": [
        "type(dados_imoveis[dados_imoveis['address_zone'].isnull()]['address_zone'][382])"
      ],
      "metadata": {
        "id": "HwziWt33A2_g"
      },
      "execution_count": null,
      "outputs": []
    },
    {
      "cell_type": "code",
      "source": [
        "dados_imoveis.query(\"address_zone != address_zone\")"
      ],
      "metadata": {
        "id": "oCn7I_krCM5x"
      },
      "execution_count": null,
      "outputs": []
    },
    {
      "cell_type": "code",
      "source": [
        "dados_imoveis.query(\"address_zone.isnull()\", engine='python')"
      ],
      "metadata": {
        "id": "Kl2WcbT2-2yG"
      },
      "execution_count": null,
      "outputs": []
    },
    {
      "cell_type": "code",
      "execution_count": null,
      "metadata": {
        "id": "WQodJOf3joty"
      },
      "outputs": [],
      "source": [
        "dici = dados_imoveis[~dados_imoveis['address_zone'].isna()].drop_duplicates(subset=['address_neighborhood']).to_dict('records')\n",
        "print(dici)"
      ]
    },
    {
      "cell_type": "code",
      "execution_count": null,
      "metadata": {
        "id": "o7ev6bRMGwPP"
      },
      "outputs": [],
      "source": [
        "#dicionario da bairro para zona\n",
        "dic_zonas = {dic['address_neighborhood']: dic['address_zone'] for dic in dici}\n",
        "print(dic_zonas)"
      ]
    },
    {
      "cell_type": "code",
      "execution_count": null,
      "metadata": {
        "id": "YdB2gnHoG1rN"
      },
      "outputs": [],
      "source": [
        "for bairro,zona in dic_zonas.items(): dados_imoveis.loc[dados_imoveis['address_neighborhood'] == bairro, 'address_zone'] = zona"
      ]
    },
    {
      "cell_type": "code",
      "execution_count": null,
      "metadata": {
        "id": "JoU7a9QUjoty"
      },
      "outputs": [],
      "source": [
        "dados_imoveis['address_zone'].isnull().sum()"
      ]
    },
    {
      "cell_type": "markdown",
      "metadata": {
        "id": "1EU9EG9vjotz"
      },
      "source": [
        "#### Dados nulos prices"
      ]
    },
    {
      "cell_type": "code",
      "execution_count": null,
      "metadata": {
        "id": "C4kdOgqujotz"
      },
      "outputs": [],
      "source": [
        "dados_imoveis.prices_tax_iptu.isnull().sum()"
      ]
    },
    {
      "cell_type": "code",
      "execution_count": null,
      "metadata": {
        "id": "gJ5ih9vljotz"
      },
      "outputs": [],
      "source": [
        "dados_imoveis.prices_tax_condo.isnull().sum()"
      ]
    },
    {
      "cell_type": "code",
      "execution_count": null,
      "metadata": {
        "id": "yn6UTSetjotz"
      },
      "outputs": [],
      "source": [
        "dados_imoveis.prices_tax_iptu.fillna(0, inplace=True)\n",
        "dados_imoveis.prices_tax_condo.fillna(0, inplace=True)"
      ]
    },
    {
      "cell_type": "code",
      "execution_count": null,
      "metadata": {
        "id": "C78oY-dnjot0"
      },
      "outputs": [],
      "source": [
        "print(f\"Total de prices nulos: {dados_imoveis.prices_tax_iptu.isnull().sum()}\")\n",
        "print(f\"Total de prices_tax_condo nulos: {dados_imoveis.prices_tax_condo.isnull().sum()}\")"
      ]
    },
    {
      "cell_type": "markdown",
      "metadata": {
        "id": "wRjLUDMKjot2"
      },
      "source": [
        "### Alterar o nome das colunas e seleção de variáveis"
      ]
    },
    {
      "cell_type": "code",
      "execution_count": null,
      "metadata": {
        "id": "ZO01Zqc7lLyV"
      },
      "outputs": [],
      "source": [
        "dados_imoveis.drop(['customerID', 'source', 'types_usage', 'address_city',\n",
        "                    'address_location_lon', 'address_location_lat','address_neighborhood' ], axis = 1, inplace=True)"
      ]
    },
    {
      "cell_type": "code",
      "execution_count": null,
      "metadata": {
        "id": "HLT13EDejot2"
      },
      "outputs": [],
      "source": [
        "dicionario_colunas = {'types_unit': 'unit', 'address_zone': 'zone', 'prices_price': 'price',\n",
        "                     'prices_tax_condo': 'tax_condo', 'prices_tax_iptu': 'tax_iptu', 'features_bedrooms': 'bedrooms',\n",
        "                      'features_bathrooms': 'bathrooms', 'features_suites': 'suites', 'features_parkingSpaces': 'parkingSpaces',\n",
        "                      'features_usableAreas': 'usableAreas', 'features_totalAreas':'totalAreas', 'features_floors':'floors',\n",
        "                      'features_unitsOnTheFloor':'unitsOnTheFloor', 'features_unitFloor':'unitFloor'}\n",
        "\n",
        "dados_imoveis = dados_imoveis.rename(dicionario_colunas, axis = 1)\n",
        "dados_imoveis.head()"
      ]
    },
    {
      "cell_type": "markdown",
      "metadata": {
        "id": "2W6DLSKVjot1"
      },
      "source": [
        "# Aula 2 - Regressão linear"
      ]
    },
    {
      "cell_type": "markdown",
      "metadata": {
        "id": "aQShHdqZjot2"
      },
      "source": [
        "## 2.1 - Correlação"
      ]
    },
    {
      "cell_type": "markdown",
      "metadata": {
        "id": "gRLWHhMvDyXm"
      },
      "source": [
        "*   Correlação: grau da relação entre variáveis. Pode ser positiva ou negativa essa relação.\n",
        "\n",
        "*   Multicolinearidade: relação perfeita ou exata entre variáveis.\n",
        "\n",
        "\n",
        "\n",
        "**Dica de leitura:** [Estatística prática para cientistas de dados: 50 conceitos essenciais](https://www.amazon.com.br/Estat%C3%ADstica-Pr%C3%A1tica-Para-Cientistas-Dados/dp/855080603X/ref=sr_1_21?__mk_pt_BR=%C3%85M%C3%85%C5%BD%C3%95%C3%91&crid=1JJ44C5LJXLR3&keywords=data+science&qid=1657892785&sprefix=data+science%2Caps%2C201&sr=8-21)\n",
        "e [Estatística: O que é, para que serve e como funciona](https://www.amazon.com.br/Estat%C3%ADstica-para-serve-como-funciona/dp/8537815128/ref=pd_sbs_sccl_3_1/137-9319794-7502061?pd_rd_w=EQoo7&content-id=amzn1.sym.d27ac626-cb3c-4c30-830f-0fd405f2510f&pf_rd_p=d27ac626-cb3c-4c30-830f-0fd405f2510f&pf_rd_r=E896BYW6W206YVVR3SHA&pd_rd_wg=3O0Cg&pd_rd_r=3e3910b0-5f34-4a57-87b2-1d918494d614&pd_rd_i=8537815128&psc=1) [(Naked Statistics: Stripping the Dread from the Data - versão em inglês)](https://www.amazon.com.br/Naked-Statistics-Stripping-Dread-Data/dp/039334777X/ref=sr_1_2?keywords=naked+statistics&qid=1657893464&sprefix=naked+st%2Caps%2C267&sr=8-2&ufe=app_do%3Aamzn1.fos.6a09f7ec-d911-4889-ad70-de8dd83c8a74)"
      ]
    },
    {
      "cell_type": "code",
      "execution_count": null,
      "metadata": {
        "id": "jmKvh9xgjot3"
      },
      "outputs": [],
      "source": [
        "correlacao = dados_imoveis.corr()\n",
        "correlacao"
      ]
    },
    {
      "cell_type": "code",
      "execution_count": null,
      "metadata": {
        "id": "prcdE8k2jot3"
      },
      "outputs": [],
      "source": [
        "#bibliotecas para visualização\n",
        "import matplotlib.pyplot as plt\n",
        "import seaborn as sns"
      ]
    },
    {
      "cell_type": "markdown",
      "metadata": {
        "id": "dic6lmcpjot4"
      },
      "source": [
        "Para mais detalhes consultar [Documentação Seaborn](https://seaborn.pydata.org/generated/seaborn.heatmap.html)"
      ]
    },
    {
      "cell_type": "code",
      "execution_count": null,
      "metadata": {
        "id": "j4Z5ecHkjot4"
      },
      "outputs": [],
      "source": [
        "#visualização das correlações\n",
        "cores = sns.color_palette('light:salmon', as_cmap=True)\n",
        "mask = np.zeros_like(correlacao)\n",
        "mask[np.triu_indices_from(mask)] = True\n",
        "with sns.axes_style(\"white\"):\n",
        "    f, ax = plt.subplots(figsize=(13, 8))\n",
        "    ax = sns.heatmap(correlacao, cmap=cores, mask=mask, square=True, fmt='.2f', annot=True)"
      ]
    },
    {
      "cell_type": "markdown",
      "metadata": {
        "id": "6LjngPTujot4"
      },
      "source": [
        "Análise da distribuição da variável resposta."
      ]
    },
    {
      "cell_type": "code",
      "execution_count": null,
      "metadata": {
        "id": "WqRkQ5e-jot5"
      },
      "outputs": [],
      "source": [
        "#antes (distrib. assimetrica a direita)\n",
        "ax = sns.histplot(data=dados_imoveis, x='price', kde=True)\n",
        "ax.figure.set_size_inches(20, 10)\n",
        "ax.set_title('Histograma de preços')\n",
        "ax.set_xlabel('Preço');"
      ]
    },
    {
      "cell_type": "markdown",
      "metadata": {
        "id": "WAhjZkomjot4"
      },
      "source": [
        "### Transformação das variáveis"
      ]
    },
    {
      "cell_type": "markdown",
      "metadata": {
        "id": "CkVVqamcjot5"
      },
      "source": [
        "Estamos realizando uma transformação logarítmica das variáveis para obtermos uma distribuição simétrica (mais próxima da normal), para que possamos usar o modelo de regressão linear. A transformação realizada é:\n",
        "\n",
        "\n",
        "$$log1p = log(1+x)$$\n",
        "\n",
        "\n",
        "Lembrar de realizar a transformação inversa para obter o valor original:\n",
        "\n",
        "\n",
        "$$expm1 = exp(x) - 1$$\n",
        "\n",
        "\n",
        "\n",
        "\n",
        "* Para mais detalhes consultar as documentações [`log1p`](https://numpy.org/doc/stable/reference/generated/numpy.log1p.html), [`expm1`](https://numpy.org/doc/stable/reference/generated/numpy.expm1.html#numpy.expm1) e [`FunctionTransformer`](https://scikit-learn.org/stable/modules/generated/sklearn.preprocessing.FunctionTransformer.html#sklearn.preprocessing.FunctionTransformer)\n",
        "\n"
      ]
    },
    {
      "cell_type": "code",
      "execution_count": null,
      "metadata": {
        "id": "wkrvIDpDjot5"
      },
      "outputs": [],
      "source": [
        "from sklearn.preprocessing import FunctionTransformer\n",
        "\n",
        "transformer = FunctionTransformer(np.log1p, validate=True)\n",
        "dados_transformados = transformer.transform(dados_imoveis.select_dtypes(exclude=['object']))"
      ]
    },
    {
      "cell_type": "code",
      "source": [
        "dados_transformados"
      ],
      "metadata": {
        "id": "WsD2bn6EJE_2"
      },
      "execution_count": null,
      "outputs": []
    },
    {
      "cell_type": "code",
      "execution_count": null,
      "metadata": {
        "id": "de_9YcKf65Wr"
      },
      "outputs": [],
      "source": [
        "colunas_dados_tranformados = dados_imoveis.select_dtypes(exclude=['object']).columns\n",
        "\n",
        "df_transformado = pd.concat([dados_imoveis.select_dtypes(include=['object']), pd.DataFrame(dados_transformados, columns=colunas_dados_tranformados)], axis=1)\n",
        "df_transformado.head()"
      ]
    },
    {
      "cell_type": "code",
      "execution_count": null,
      "metadata": {
        "id": "aNuAONIPjot5"
      },
      "outputs": [],
      "source": [
        "#depois da transformação\n",
        "correlacao_transformado = df_transformado.corr()\n",
        "mask = np.zeros_like(correlacao_transformado)\n",
        "mask[np.triu_indices_from(mask)] = True\n",
        "with sns.axes_style(\"white\"):\n",
        "    f, ax = plt.subplots(figsize=(13, 8))\n",
        "    ax = sns.heatmap(correlacao_transformado, cmap=cores, mask=mask, square=True, fmt='.2f', annot=True)\n",
        "    ax.set_title('Correlação entre variáveis - Tranformação Log', fontsize=20)"
      ]
    },
    {
      "cell_type": "code",
      "execution_count": null,
      "metadata": {
        "id": "GxnI3Bc-jot6"
      },
      "outputs": [],
      "source": [
        "#depois (distrib. simétrica)\n",
        "ax = sns.histplot(data=df_transformado, x='price', kde=True)\n",
        "ax.figure.set_size_inches(20, 10)\n",
        "ax.set_title('Histograma de preços')\n",
        "ax.set_xlabel('Preço');"
      ]
    },
    {
      "cell_type": "markdown",
      "metadata": {
        "id": "Lnc270Yqjot6"
      },
      "source": [
        "### Dummies"
      ]
    },
    {
      "cell_type": "code",
      "execution_count": null,
      "metadata": {
        "id": "CU3gB5Vkjot6"
      },
      "outputs": [],
      "source": [
        "variaveis_categoricas = df_transformado.select_dtypes(include=['object']).columns"
      ]
    },
    {
      "cell_type": "code",
      "execution_count": null,
      "metadata": {
        "id": "TwNvfYoTgndG"
      },
      "outputs": [],
      "source": [
        "variaveis_categoricas"
      ]
    },
    {
      "cell_type": "code",
      "source": [
        "df_transformado[variaveis_categoricas]"
      ],
      "metadata": {
        "id": "nEN436fHbYf3"
      },
      "execution_count": null,
      "outputs": []
    },
    {
      "cell_type": "code",
      "execution_count": null,
      "metadata": {
        "id": "nPTMe-Bujot6"
      },
      "outputs": [],
      "source": [
        "df_dummies = pd.get_dummies(df_transformado[variaveis_categoricas])\n",
        "df_dummies.head()"
      ]
    },
    {
      "cell_type": "code",
      "execution_count": null,
      "metadata": {
        "id": "Q5gp-zGujot7"
      },
      "outputs": [],
      "source": [
        "dados_imoveis_dummies = pd.concat([df_transformado.drop(variaveis_categoricas, axis=1), df_dummies], axis=1)\n",
        "dados_imoveis_dummies.head()"
      ]
    },
    {
      "cell_type": "markdown",
      "metadata": {
        "id": "UF9KVec5dKvn"
      },
      "source": [
        "## 2.2 - Regressão Linear\n",
        "\n",
        "* \"A análise de regressão diz respeito ao estudo da dependência de uma variável, a variável dependente, em relação a uma ou mais variáveis, as variáveis explanatórias, visando estimar e/ou prever o valor médio (da população) da primeira em termos dos valores conhecidos ou fixados (em amostragens repetidas) das segundas.\"\n",
        "\n",
        "* [Documentação Sklearn - LinearRegression](https://scikit-learn.org/stable/modules/generated/sklearn.linear_model.LinearRegression.html#sklearn.linear_model.LinearRegression)\n",
        "\n",
        "* Regressão Simples: a variável dependente (regressando ou `y`) se relaciona a uma única variável explanatória (regressor ou `X`).\n",
        "\n",
        "* Regressão Múltipla: a variável dependente (regressando ou `y`) se relaciona a mais de uma única variável explanatória (regressor ou `Xi`).\n",
        "\n",
        "\n",
        "[slides]"
      ]
    },
    {
      "cell_type": "markdown",
      "metadata": {
        "id": "NCJT4tyvjot7"
      },
      "source": [
        "## 2.3 - Ajuste e Previsão"
      ]
    },
    {
      "cell_type": "markdown",
      "metadata": {
        "id": "CUVKskTnjot7"
      },
      "source": [
        "### Divisão dos dados"
      ]
    },
    {
      "cell_type": "code",
      "execution_count": null,
      "metadata": {
        "id": "_buEpLP0jot8"
      },
      "outputs": [],
      "source": [
        "#variáveis explanatórias (independentes)\n",
        "X = dados_imoveis_dummies.drop('price', axis=1)\n",
        "\n",
        "#variável dependente\n",
        "y = dados_imoveis_dummies['price']"
      ]
    },
    {
      "cell_type": "code",
      "execution_count": null,
      "metadata": {
        "id": "zXNY9CLzjot7"
      },
      "outputs": [],
      "source": [
        "from sklearn.model_selection import train_test_split"
      ]
    },
    {
      "cell_type": "code",
      "execution_count": null,
      "metadata": {
        "id": "sN_McnjLjot8"
      },
      "outputs": [],
      "source": [
        "#divisão em conjunto de treino e teste\n",
        "X_treino, X_teste, y_treino, y_teste = train_test_split(X, y, test_size=0.3, random_state=42)"
      ]
    },
    {
      "cell_type": "markdown",
      "metadata": {
        "id": "MlQgkLCfnjQA"
      },
      "source": [
        "### Modelo"
      ]
    },
    {
      "cell_type": "code",
      "execution_count": null,
      "metadata": {
        "id": "Q-sDBVv6qgVl"
      },
      "outputs": [],
      "source": [
        "from sklearn.linear_model import LinearRegression"
      ]
    },
    {
      "cell_type": "code",
      "execution_count": null,
      "metadata": {
        "id": "tdcPTGZAqhL9"
      },
      "outputs": [],
      "source": [
        "#Instanciando o modelo\n",
        "lr = LinearRegression()"
      ]
    },
    {
      "cell_type": "code",
      "execution_count": null,
      "metadata": {
        "id": "FLGMxxBmqhk1"
      },
      "outputs": [],
      "source": [
        "#treino\n",
        "lr.fit(X_treino, y_treino)"
      ]
    },
    {
      "cell_type": "code",
      "execution_count": null,
      "metadata": {
        "id": "_LqC15XYqhhE"
      },
      "outputs": [],
      "source": [
        "#teste\n",
        "previsao_lr = lr.predict(X_teste)"
      ]
    },
    {
      "cell_type": "code",
      "execution_count": null,
      "metadata": {
        "id": "ooC8ti2vqn80"
      },
      "outputs": [],
      "source": [
        "#resultados da previsão\n",
        "previsao_lr"
      ]
    },
    {
      "cell_type": "code",
      "execution_count": null,
      "metadata": {
        "id": "xAdTR4GSg56P"
      },
      "outputs": [],
      "source": [
        "#transformação inversa\n",
        "np.expm1(13.25768024)"
      ]
    },
    {
      "cell_type": "markdown",
      "metadata": {
        "id": "PraznHLEjouB"
      },
      "source": [
        "## 2.4 - Métrica de desempenho"
      ]
    },
    {
      "cell_type": "markdown",
      "metadata": {
        "id": "yb5Nd23ki1v6"
      },
      "source": [
        "### Coeficiente de Determinação\n",
        "\n",
        "* descobrir quão “bem” uma linha de regressão amostral é adequada aos dados\n",
        "* r2 situa-se entre 0 e 1\n",
        "* \"r2 mede a proporção ou percentual da variação total de Y explicada pelo modelo de regressão.\"\n",
        "\n",
        "\n",
        "\n"
      ]
    },
    {
      "cell_type": "code",
      "execution_count": null,
      "metadata": {
        "id": "e6EGnOEpjouB"
      },
      "outputs": [],
      "source": [
        "#importar a biblioteca\n",
        "from sklearn.metrics import r2_score"
      ]
    },
    {
      "cell_type": "code",
      "execution_count": null,
      "metadata": {
        "id": "G6XKyUOXjouC"
      },
      "outputs": [],
      "source": [
        "r2_lr = r2_score(y_teste, previsao_lr)\n",
        "r2_lr"
      ]
    },
    {
      "cell_type": "markdown",
      "source": [
        "**Gráfico: 2 linhas (verdade e previsão - Teste)**"
      ],
      "metadata": {
        "id": "Az-V_K1YZYb-"
      }
    },
    {
      "cell_type": "code",
      "source": [
        "tam_test = len(y_teste)\n",
        "tam_test"
      ],
      "metadata": {
        "id": "diMTLFWDbst6"
      },
      "execution_count": null,
      "outputs": []
    },
    {
      "cell_type": "code",
      "source": [
        "import matplotlib.pyplot as plt\n",
        "import numpy as np\n",
        "\n",
        "# Data for plotting\n",
        "t = np.arange(0, tam_test, 1)\n",
        "\n",
        "fig, ax = plt.subplots()\n",
        "ax.plot(t, np.expm1(y_teste), 'b')\n",
        "\n",
        "fig, ax = plt.subplots()\n",
        "ax.plot(t, np.expm1(previsao_lr), 'r')"
      ],
      "metadata": {
        "id": "wE_C_tWvZX-T"
      },
      "execution_count": null,
      "outputs": []
    },
    {
      "cell_type": "code",
      "source": [
        "# Data for plotting\n",
        "en=20\n",
        "t = np.arange(0, en, 1)\n",
        "\n",
        "fig, ax = plt.subplots()\n",
        "ax.plot(t, np.expm1(y_teste[:en]), 'b')\n",
        "ax.plot(t, np.expm1(previsao_lr[:en]), 'r')"
      ],
      "metadata": {
        "id": "opmyae-Sdl-z"
      },
      "execution_count": null,
      "outputs": []
    },
    {
      "cell_type": "markdown",
      "metadata": {
        "id": "TWxgmYTNSaRa"
      },
      "source": [
        "### Extra\n",
        "\n",
        "* [Documentação Sklearn - Métricas para Regressão](https://scikit-learn.org/stable/modules/model_evaluation.html#regression-metrics)\n",
        "\n",
        "* Observação: Estas métricas dependem da escala dos dados!!!\n",
        "\n",
        "* MSE (Mean Squared Error ou Erro Quadrático Médio): média da diferença **elevada ao quadrado** entre o valor real e o previsto. *(penalidade sobre o erro)*\n",
        "\n",
        "* MAE (Mean Absolute Error ou Erro Absoluto Médio): média da diferença **absoluta** (módulo) entre o valor real e o previsto.\n"
      ]
    },
    {
      "cell_type": "code",
      "source": [
        "from sklearn.metrics import mean_squared_error as mse\n",
        "\n",
        "mse_lr = mse(y_teste, previsao_lr)\n",
        "mse_lr"
      ],
      "metadata": {
        "id": "efUO9QHmP_uV"
      },
      "execution_count": null,
      "outputs": []
    },
    {
      "cell_type": "code",
      "source": [
        "from sklearn.metrics import mean_absolute_error as mae\n",
        "\n",
        "mae_lr = mae(y_teste, previsao_lr)\n",
        "mae_lr"
      ],
      "metadata": {
        "id": "FPAqw7OEQrEZ"
      },
      "execution_count": null,
      "outputs": []
    },
    {
      "cell_type": "code",
      "source": [
        "from sklearn.metrics import mean_absolute_percentage_error as mape\n",
        "\n",
        "mape_lr = mape(y_teste, previsao_lr)\n",
        "mape_lr"
      ],
      "metadata": {
        "id": "iuyLHh_CQ3Th"
      },
      "execution_count": null,
      "outputs": []
    },
    {
      "cell_type": "markdown",
      "metadata": {
        "id": "bN7JJ3fojouD"
      },
      "source": [
        "# Aula 3 - Árvore de Decisão para Regressão\n",
        "\n",
        "\n",
        "\n",
        "\n"
      ]
    },
    {
      "cell_type": "markdown",
      "metadata": {
        "id": "X5btylrcu8bK"
      },
      "source": [
        "## 3.1 - Árvore de Decisão Classificação versus Regressão\n",
        "\n",
        "[slides]\n",
        "\n",
        "[Biblioteca Sklearn - Desicion Tree](https://scikit-learn.org/stable/modules/tree.html#regression)\n",
        "\n",
        "**Dica de leitura**: [Capítulo 6 - Mãos à obra: aprendizado de máquina com Scikit-Learn, Keras & TensorFlow: Conceitos, ferramentas e técnicas para a construção de sistemas inteligentes](https://www.amazon.com.br/M%C3%A3os-obra-aprendizado-Scikit-Learn-inteligentes/dp/8550815489/ref=sr_1_2?keywords=machine+learning&qid=1658181249&sprefix=machine%2Caps%2C469&sr=8-2&ufe=app_do%3Aamzn1.fos.6d798eae-cadf-45de-946a-f477d47705b9), [Para saber mais: como funciona a árvore de decisão? - Classificação](https://cursos.alura.com.br/course/machine-learning-classificacao-tras-panos/task/107966)\n",
        "\n"
      ]
    },
    {
      "cell_type": "markdown",
      "metadata": {
        "id": "O0CXJSK9jouD"
      },
      "source": [
        "## 3.2 - Implementando o Modelo\n"
      ]
    },
    {
      "cell_type": "code",
      "execution_count": null,
      "metadata": {
        "id": "G4je_bx7jouD"
      },
      "outputs": [],
      "source": [
        "from sklearn.tree import DecisionTreeRegressor"
      ]
    },
    {
      "cell_type": "code",
      "execution_count": null,
      "metadata": {
        "id": "txw8V0ByjouD"
      },
      "outputs": [],
      "source": [
        "#Instanciando o modelo\n",
        "dtr = DecisionTreeRegressor(random_state=42, max_depth=15)"
      ]
    },
    {
      "cell_type": "code",
      "execution_count": null,
      "metadata": {
        "id": "XLt-zMWnjouE"
      },
      "outputs": [],
      "source": [
        "#Treino\n",
        "dtr.fit(X_treino, y_treino)"
      ]
    },
    {
      "cell_type": "code",
      "execution_count": null,
      "metadata": {
        "id": "1RxdWgI1jouE"
      },
      "outputs": [],
      "source": [
        "#Teste\n",
        "previsao_dtr = dtr.predict(X_teste)"
      ]
    },
    {
      "cell_type": "code",
      "execution_count": null,
      "metadata": {
        "id": "vroBI1MsjouE"
      },
      "outputs": [],
      "source": [
        "#Resultados da previsão\n",
        "previsao_dtr"
      ]
    },
    {
      "cell_type": "markdown",
      "metadata": {
        "id": "BIcevZa6jouE"
      },
      "source": [
        "**Gráfico de erro de predição**: Um gráfico de erros de predição mostra os alvos reais em relação aos valores previstos. Em um modelo perfeito, esses pontos estariam alinhados em 45 grau.\n",
        "\n",
        "\n",
        "Para saber mais sobre outras visualizações:\n",
        "[**Documentação YellowBrick**](https://www.scikit-yb.org/en/latest/)\n",
        "\n"
      ]
    },
    {
      "cell_type": "code",
      "execution_count": null,
      "metadata": {
        "id": "gF9f3ZpBjouE"
      },
      "outputs": [],
      "source": [
        "from yellowbrick.regressor import PredictionError\n",
        "\n",
        "fig, ax = plt.subplots(figsize=(10, 10))\n",
        "pev = PredictionError(dtr)\n",
        "pev.fit(X_treino, y_treino)\n",
        "pev.score(X_teste, y_teste)\n",
        "pev.poof()"
      ]
    },
    {
      "cell_type": "markdown",
      "metadata": {
        "id": "BnTTNH16jouG"
      },
      "source": [
        "## 3.3 - Métrica"
      ]
    },
    {
      "cell_type": "code",
      "execution_count": null,
      "metadata": {
        "id": "zJe46tsBjouG"
      },
      "outputs": [],
      "source": [
        "#coeficiente de determinacao\n",
        "r2_dtr = r2_score(y_teste, previsao_dtr)\n",
        "r2_dtr"
      ]
    },
    {
      "cell_type": "markdown",
      "metadata": {
        "id": "O0W2x9lzjouH"
      },
      "source": [
        "# Aula 4 - Random Forest para Regressão\n"
      ]
    },
    {
      "cell_type": "markdown",
      "metadata": {
        "id": "ebk_xGnsjouI"
      },
      "source": [
        "## 4.1 - Modelo Ensemble\n",
        "\n",
        "[slides]\n",
        "\n",
        "[Biblioteca Sklearn - Random Forest Regressor](https://scikit-learn.org/stable/modules/generated/sklearn.ensemble.RandomForestRegressor.html#sklearn.ensemble.RandomForestRegressor)\n",
        "\n",
        "**Dica de leitura**: [Artigo Científico - Random Forests](https://link.springer.com/article/10.1023/A:1010933404324), [Wikipédia: Random Forests](https://en.wikipedia.org/wiki/Random_forest#:~:text=Random%20forests%20or%20random%20decision,class%20selected%20by%20most%20trees.), [Capítulo 4 - Livro Introduction to Statistical and Machine Learning Methods for Data Science](https://www.amazon.com.br/dp/B09C2DVZHR/ref=dp-kindle-redirect?_encoding=UTF8&btkr=1), [Capítulo 7 - Mãos à obra: aprendizado de máquina com Scikit-Learn, Keras & TensorFlow: Conceitos, ferramentas e técnicas para a construção de sistemas inteligentes](https://www.amazon.com.br/M%C3%A3os-obra-aprendizado-Scikit-Learn-inteligentes/dp/8550815489/ref=sr_1_2?keywords=machine+learning&qid=1658181249&sprefix=machine%2Caps%2C469&sr=8-2&ufe=app_do%3Aamzn1.fos.6d798eae-cadf-45de-946a-f477d47705b9)"
      ]
    },
    {
      "cell_type": "markdown",
      "metadata": {
        "id": "ynzSOUsyjouI"
      },
      "source": [
        "## 4.2 - Previsão\n",
        "\n",
        "**Ponto de Atenção**\n",
        "Os parâmetros são praticamente os mesmos entre o `DecisionTreeRegressor()` e o `RandomForestRegressor()`, com exceção de:\n",
        "\n",
        "* `n_estimators`: quantidade de árvores na floresta\n",
        "* `bootstrap`: define se será utilizado o método estatístico de amostragem *bootstrap*\n",
        "* `oob_score`: define se será utilizado o método de amostragem *out-of-bag* para mensurar os erros da predição\n",
        "* `n_jobs`: número de *jobs* rodando paralelamente (computação paralela - processadores)\n",
        "* `warm_start`: faz a adequação de uma nova floresta ou usa uma floresta existente.\n",
        "* `max_samples`: para o caso do `bootstrap` ser `True`, define o número de amostras a serem extraídas de X para treinar cada árvore base."
      ]
    },
    {
      "cell_type": "code",
      "execution_count": null,
      "metadata": {
        "id": "xY-ooO2vjouI"
      },
      "outputs": [],
      "source": [
        "from sklearn.ensemble import RandomForestRegressor"
      ]
    },
    {
      "cell_type": "code",
      "execution_count": null,
      "metadata": {
        "id": "alVdb30djouI"
      },
      "outputs": [],
      "source": [
        "rf = RandomForestRegressor(random_state=42, max_depth=10, n_estimators=50)"
      ]
    },
    {
      "cell_type": "code",
      "execution_count": null,
      "metadata": {
        "id": "cyRkmqKOjouI"
      },
      "outputs": [],
      "source": [
        "rf.fit(X_treino, y_treino)"
      ]
    },
    {
      "cell_type": "code",
      "execution_count": null,
      "metadata": {
        "id": "RC_6WvN-jouJ"
      },
      "outputs": [],
      "source": [
        "previsao_rf = rf.predict(X_teste)"
      ]
    },
    {
      "cell_type": "markdown",
      "metadata": {
        "id": "tnbs3ArwpbNt"
      },
      "source": [
        "**Gráfico de erro de predição**"
      ]
    },
    {
      "cell_type": "code",
      "execution_count": null,
      "metadata": {
        "id": "GvDfB8qPjouJ"
      },
      "outputs": [],
      "source": [
        "from yellowbrick.regressor import PredictionError\n",
        "\n",
        "fig, ax = plt.subplots(figsize=(10, 10))\n",
        "pev = PredictionError(rf)\n",
        "pev.fit(X_treino, y_treino)\n",
        "pev.score(X_teste, y_teste)\n",
        "pev.poof()"
      ]
    },
    {
      "cell_type": "markdown",
      "metadata": {
        "id": "PRBM23o8jouK"
      },
      "source": [
        "## 4.3 - Métrica de desempenho"
      ]
    },
    {
      "cell_type": "code",
      "execution_count": null,
      "metadata": {
        "id": "lBab9TZXjouK"
      },
      "outputs": [],
      "source": [
        "#coeficiente de determinacao\n",
        "r2_rf = r2_score(y_teste, previsao_rf)\n",
        "r2_rf"
      ]
    },
    {
      "cell_type": "markdown",
      "metadata": {
        "id": "xDZsHw5ejouL"
      },
      "source": [
        "# Aula 5 - Técnicas de Otimização\n"
      ]
    },
    {
      "cell_type": "markdown",
      "metadata": {
        "id": "EvYvksREVgSt"
      },
      "source": [
        "## 5.1 - Ferramentas de Otimização\n",
        "\n",
        "* Por que otimizar?\n",
        "\n",
        "* Quais ferramentas temos?\n",
        "\n",
        "[Melhorando os hiperparâmetros - Documentação Sklearn](https://scikit-learn.org/stable/modules/grid_search.html#tuning-the-hyper-parameters-of-an-estimator)"
      ]
    },
    {
      "cell_type": "markdown",
      "metadata": {
        "id": "79q2V6W8Vj6L"
      },
      "source": [
        "### 1. Cross Validation (Validação Cruzada)\n",
        "\n",
        "* [Documentação Cross-validation](https://scikit-learn.org/stable/modules/cross_validation.html)\n",
        "\n",
        "* **Cross Validation** é uma técnica muito utilizada para avaliação de desempenho de modelos e consequente verificação de tendências no aprendizado de máquina. Ele consiste em particionar os dados em subconjuntos (partes), onde um subconjunto é utilizado para treino e outro subconjunto é utilizado para teste e avaliação do desempenho do modelo.\n",
        "\n",
        "* Os dados particionados são os de treino (70% dos dados originais)!\n",
        "\n",
        "* **K-fold**: conjunto de treino é dividido de forma aleatória em K subconjuntos de aproximadamente mesmo tamanho, depois são realizados K iterações, onde K-1 subconjuntos são para treino e 1 para validação.\n",
        "\n",
        "* O desempenho calculado pela validação cruzada k-fold é a média de todos os valores calculados em cada iteração.\n"
      ]
    },
    {
      "cell_type": "markdown",
      "metadata": {
        "id": "VusVKhwNB-vN"
      },
      "source": [
        "### 2. Randomized Parameter Optimization (Otimização Aleatória de Parâmetros)\n",
        "\n",
        "* [Documentação Randomized Search](https://scikit-learn.org/stable/modules/grid_search.html#randomized-parameter-optimization)\n",
        "\n",
        "* [Artigo Científico sobre Random Search](https://www.jmlr.org/papers/volume13/bergstra12a/bergstra12a.pdf)\n",
        "\n",
        "* \"Define um espaço de busca como um domínio limitado de valores de hiperparâmetros e pontos de amostra aleatórios nesse domínio.\"\n",
        "\n",
        "* Imagem no artigo sobre funcionamento desta busca\n",
        "\n"
      ]
    },
    {
      "cell_type": "markdown",
      "metadata": {
        "id": "2exaVIu-jouM"
      },
      "source": [
        "## 5.2 - Otimizando a árvore de decisão"
      ]
    },
    {
      "cell_type": "code",
      "execution_count": null,
      "metadata": {
        "id": "x32KCmxFjouN"
      },
      "outputs": [],
      "source": [
        "#divisão do dataset em 3 pedaços\n",
        "from sklearn.model_selection import KFold\n",
        "\n",
        "#definindo o K - número de subconjuntos\n",
        "cv = KFold(n_splits = 5, shuffle=True)"
      ]
    },
    {
      "cell_type": "markdown",
      "metadata": {
        "id": "S97v2rejjouN"
      },
      "source": [
        "### Cross validation\n"
      ]
    },
    {
      "cell_type": "code",
      "execution_count": null,
      "metadata": {
        "id": "xyvedr_rjouO"
      },
      "outputs": [],
      "source": [
        "from sklearn.model_selection import cross_val_score"
      ]
    },
    {
      "cell_type": "code",
      "execution_count": null,
      "metadata": {
        "id": "XHGxwuBljouO"
      },
      "outputs": [],
      "source": [
        "desempenho_cross_val_r2 = cross_val_score(estimator = dtr,\n",
        "                                       X = X_treino,\n",
        "                                       y = y_treino,\n",
        "                                       scoring = 'r2',\n",
        "                                       cv = cv)\n",
        "desempenho_cross_val_r2"
      ]
    },
    {
      "cell_type": "code",
      "source": [
        "print('Desempenho médio de r2: {}'.format(round(desempenho_cross_val_r2.mean(), 3)))"
      ],
      "metadata": {
        "id": "wd7fMst6eRy9"
      },
      "execution_count": null,
      "outputs": []
    },
    {
      "cell_type": "markdown",
      "metadata": {
        "id": "vpNOAne8sLHJ"
      },
      "source": [
        "### Random Search Validação"
      ]
    },
    {
      "cell_type": "code",
      "execution_count": null,
      "metadata": {
        "id": "tLfrQ_PZsOWe"
      },
      "outputs": [],
      "source": [
        "#seleção de hiperparâmetros\n",
        "param_random_dt = {\n",
        "    'criterion': ['squared_error', 'absolute_error'],\n",
        "    'max_depth': [6, 8, 10, 12, 14, 16],\n",
        "    'min_samples_leaf': [6, 8, 10],\n",
        "    'min_samples_split': [8, 10, 12, 14, 16],\n",
        "    'max_features': ['sqrt', 'log2', 'auto'],\n",
        "}"
      ]
    },
    {
      "cell_type": "code",
      "execution_count": null,
      "metadata": {
        "id": "g-gTVdSIjouS"
      },
      "outputs": [],
      "source": [
        "from sklearn.model_selection import RandomizedSearchCV"
      ]
    },
    {
      "cell_type": "code",
      "execution_count": null,
      "metadata": {
        "id": "3sd49DOvspuX"
      },
      "outputs": [],
      "source": [
        "random_cv_dt = RandomizedSearchCV(\n",
        "    dtr,\n",
        "    param_random_dt,\n",
        "    n_iter=5,\n",
        "    cv=cv,\n",
        "    scoring='r2',\n",
        "    n_jobs=-1\n",
        ")"
      ]
    },
    {
      "cell_type": "code",
      "execution_count": null,
      "metadata": {
        "id": "SAsB3O3ZsprH"
      },
      "outputs": [],
      "source": [
        "randomcv_dtr = random_cv_dt.fit(X_treino, y_treino)"
      ]
    },
    {
      "cell_type": "code",
      "execution_count": null,
      "metadata": {
        "id": "A8WlSRFRsplf"
      },
      "outputs": [],
      "source": [
        "pd.DataFrame(randomcv_dtr.cv_results_)"
      ]
    },
    {
      "cell_type": "code",
      "execution_count": null,
      "metadata": {
        "id": "5VVGXurFspeP"
      },
      "outputs": [],
      "source": [
        "#a melhor combinação\n",
        "randomcv_dtr.best_params_"
      ]
    },
    {
      "cell_type": "code",
      "execution_count": null,
      "metadata": {
        "id": "7fQWBaUCShvT"
      },
      "outputs": [],
      "source": [
        "#o melhor score\n",
        "randomcv_dtr.best_score_"
      ]
    },
    {
      "cell_type": "markdown",
      "metadata": {
        "id": "xkYN3TL1uroW"
      },
      "source": [
        "### Random Search Teste"
      ]
    },
    {
      "cell_type": "code",
      "execution_count": null,
      "metadata": {
        "id": "6R1hmWxrrGrk"
      },
      "outputs": [],
      "source": [
        "dtr_otimizado = DecisionTreeRegressor(criterion='squared_error' , max_depth=16, max_features='log2' ,\n",
        "                            min_samples_leaf= 8, min_samples_split =10 )"
      ]
    },
    {
      "cell_type": "code",
      "execution_count": null,
      "metadata": {
        "id": "2ktdY09ku59f"
      },
      "outputs": [],
      "source": [
        "dtr_otimizado.fit(X_treino, y_treino)"
      ]
    },
    {
      "cell_type": "code",
      "execution_count": null,
      "metadata": {
        "id": "GOufXDUbu5nt"
      },
      "outputs": [],
      "source": [
        "predicao_dtr_otimizado = dtr_otimizado.predict(X_teste)"
      ]
    },
    {
      "cell_type": "code",
      "execution_count": null,
      "metadata": {
        "id": "K7PSaf7ExDp3"
      },
      "outputs": [],
      "source": [
        "r2_score(y_teste, predicao_dtr_otimizado)"
      ]
    },
    {
      "cell_type": "markdown",
      "metadata": {
        "id": "Htr1DwBpjouT"
      },
      "source": [
        "## 5.3 - Otimizando a Random Forest"
      ]
    },
    {
      "cell_type": "markdown",
      "metadata": {
        "id": "YYSxT8eeI5gG"
      },
      "source": [
        "### Cross validation"
      ]
    },
    {
      "cell_type": "code",
      "execution_count": null,
      "metadata": {
        "id": "QHS_luJlwcKv"
      },
      "outputs": [],
      "source": [
        "desempenhoRF_cross_val_r2 = cross_val_score(estimator = rf,\n",
        "                                       X = X_treino,\n",
        "                                       y = y_treino,\n",
        "                                       scoring = 'r2',\n",
        "                                       cv = cv)\n",
        "desempenhoRF_cross_val_r2"
      ]
    },
    {
      "cell_type": "code",
      "source": [
        "print('Desempenho médio de r2: {}'.format(round(desempenhoRF_cross_val_r2.mean(), 3)))"
      ],
      "metadata": {
        "id": "JbzGPSZZjFM5"
      },
      "execution_count": null,
      "outputs": []
    },
    {
      "cell_type": "markdown",
      "metadata": {
        "id": "q_-1reiFjouS"
      },
      "source": [
        "### Random Search Validação"
      ]
    },
    {
      "cell_type": "markdown",
      "metadata": {
        "id": "XrAMRFeHDmE_"
      },
      "source": [
        "Definindo os parâmetros"
      ]
    },
    {
      "cell_type": "code",
      "execution_count": null,
      "metadata": {
        "id": "29hdUVdGjouS"
      },
      "outputs": [],
      "source": [
        "param_random_rf = {\n",
        "    'n_estimators': [150, 200],\n",
        "    'max_depth': [20, 30],\n",
        "    'min_samples_split': [8, 10],\n",
        "    'min_samples_leaf': [3],\n",
        "}"
      ]
    },
    {
      "cell_type": "code",
      "execution_count": null,
      "metadata": {
        "id": "S9aUbEGdHqiB"
      },
      "outputs": [],
      "source": [
        "random_cv_rf = RandomizedSearchCV(\n",
        "    rf,\n",
        "    param_random_rf,\n",
        "    n_iter=5,\n",
        "    cv=cv,\n",
        "    scoring='r2',\n",
        "    n_jobs=-1,\n",
        "    random_state = 42\n",
        ")"
      ]
    },
    {
      "cell_type": "code",
      "execution_count": null,
      "metadata": {
        "id": "N3x19a9gIRZL"
      },
      "outputs": [],
      "source": [
        "rf_randomcv = random_cv_rf.fit(X_treino, y_treino)"
      ]
    },
    {
      "cell_type": "code",
      "execution_count": null,
      "metadata": {
        "id": "JUpfBTwf_ewj"
      },
      "outputs": [],
      "source": [
        "pd.DataFrame(rf_randomcv.cv_results_)"
      ]
    },
    {
      "cell_type": "code",
      "execution_count": null,
      "metadata": {
        "id": "sBU95_e1_mpG"
      },
      "outputs": [],
      "source": [
        "rf_randomcv.best_params_"
      ]
    },
    {
      "cell_type": "code",
      "execution_count": null,
      "metadata": {
        "id": "EpP5ACgwSnJZ"
      },
      "outputs": [],
      "source": [
        "rf_randomcv.best_score_"
      ]
    },
    {
      "cell_type": "markdown",
      "metadata": {
        "id": "EH7C1OJP_fbS"
      },
      "source": [
        "### Random Search Teste"
      ]
    },
    {
      "cell_type": "code",
      "execution_count": null,
      "metadata": {
        "id": "eHGZNQ2U_ekj"
      },
      "outputs": [],
      "source": [
        "rf_otimizado2 = RandomForestRegressor(random_state=42, max_depth=30, n_estimators=200,\n",
        "                                      min_samples_leaf=3, min_samples_split=8)"
      ]
    },
    {
      "cell_type": "code",
      "execution_count": null,
      "metadata": {
        "id": "ticE8awP_ebj"
      },
      "outputs": [],
      "source": [
        "rf_otimizado2.fit(X_treino, y_treino)"
      ]
    },
    {
      "cell_type": "code",
      "execution_count": null,
      "metadata": {
        "id": "V7to3kisDXXP"
      },
      "outputs": [],
      "source": [
        "predicao_rf_otimizado2 = rf_otimizado2.predict(X_teste)"
      ]
    },
    {
      "cell_type": "code",
      "execution_count": null,
      "metadata": {
        "id": "m-t4cme-Dcw0"
      },
      "outputs": [],
      "source": [
        "r2_score(y_teste, predicao_rf_otimizado2)"
      ]
    },
    {
      "cell_type": "markdown",
      "metadata": {
        "id": "f__nZQq1jouT"
      },
      "source": [
        "## 5.4 - Escolhendo o melhor modelo"
      ]
    },
    {
      "cell_type": "code",
      "execution_count": null,
      "metadata": {
        "id": "w1kvgoydp5Rw"
      },
      "outputs": [],
      "source": [
        "#tabela de resultados\n",
        "print('Random Search')\n",
        "print(\"=\"*30)\n",
        "print(\"Árvore de Decisão: %f\" % r2_score(y_teste, predicao_dtr_otimizado))\n",
        "print(\"Floresta Aleatória: %f\" % r2_score(y_teste, predicao_rf_otimizado2))\n",
        "print(\"*\"*30)\n",
        "\n",
        "print(\"Cross Validation\")\n",
        "print(\"=\"*30)\n",
        "print(\"Árvore de Decisão: %f\" % round(desempenho_cross_val_r2.mean(), 3))\n",
        "print(\"Floresta Aleatória: %f\" % round(desempenhoRF_cross_val_r2.mean(), 3))"
      ]
    },
    {
      "cell_type": "code",
      "execution_count": null,
      "metadata": {
        "id": "g92hzy7OnVPL"
      },
      "outputs": [],
      "source": [
        "#Testando o melhor modelo\n",
        "cliente_joana = pd.DataFrame({'tax_iptu':[4.6], 'tax_condo':[5.45], 'bedrooms':[2],\t'bathrooms':[1], 'suites':[1], 'parkingSpaces':[1],\t'usableAreas':[4],\t'totalAreas':[4.68],\t'floors':[0],\t'unitsOnTheFloor':[0],\t'unitFloor':[0],\t'unit_Apartamento':[0],\t'unit_Casa':[1],\t'unit_Outros':[0],\t'zone_Zona Central':[0],\t'zone_Zona Norte':[0],\t'zone_Zona Oeste':[1],\t'zone_Zona Sul':[0]})\n",
        "cliente_joana"
      ]
    },
    {
      "cell_type": "code",
      "execution_count": null,
      "metadata": {
        "id": "jtrulIP4o8Au"
      },
      "outputs": [],
      "source": [
        "#Verificando resultados\n",
        "predicao_cliente_joana = rf_otimizado2.predict(cliente_joana)\n",
        "np.expm1(predicao_cliente_joana)"
      ]
    }
  ],
  "metadata": {
    "colab": {
      "collapsed_sections": [
        "5joGVhddjotb",
        "NSNF4LNvjotg",
        "krWT41fAjoth",
        "ummedWUBjotl",
        "i0ajVKZfjotn",
        "SNlALwsLjoto",
        "DWqC5wd3jotq",
        "hht873Vzjott",
        "f2QL-757jotr",
        "MiQRemC5jott",
        "ZQZNqAgJjot2",
        "kvIsnpG0jotw",
        "yaysvPw2jotw",
        "1EU9EG9vjotz",
        "wRjLUDMKjot2",
        "2W6DLSKVjot1",
        "aQShHdqZjot2",
        "WAhjZkomjot4",
        "Lnc270Yqjot6",
        "UF9KVec5dKvn",
        "NCJT4tyvjot7",
        "CUVKskTnjot7",
        "MlQgkLCfnjQA",
        "PraznHLEjouB",
        "yb5Nd23ki1v6",
        "TWxgmYTNSaRa",
        "bN7JJ3fojouD",
        "X5btylrcu8bK",
        "O0CXJSK9jouD",
        "BnTTNH16jouG",
        "O0W2x9lzjouH",
        "ebk_xGnsjouI",
        "ynzSOUsyjouI",
        "PRBM23o8jouK",
        "xDZsHw5ejouL",
        "EvYvksREVgSt",
        "79q2V6W8Vj6L",
        "VusVKhwNB-vN",
        "2exaVIu-jouM",
        "S97v2rejjouN",
        "vpNOAne8sLHJ",
        "xkYN3TL1uroW",
        "Htr1DwBpjouT",
        "YYSxT8eeI5gG",
        "q_-1reiFjouS",
        "EH7C1OJP_fbS",
        "f__nZQq1jouT"
      ],
      "provenance": []
    },
    "interpreter": {
      "hash": "c500cbb8e7d8b21f988729da27216438994fcf251b21651d2da847db7705ee99"
    },
    "kernelspec": {
      "display_name": "Python 3.8.13 ('machine_learning')",
      "language": "python",
      "name": "python3"
    },
    "language_info": {
      "codemirror_mode": {
        "name": "ipython",
        "version": 3
      },
      "file_extension": ".py",
      "mimetype": "text/x-python",
      "name": "python",
      "nbconvert_exporter": "python",
      "pygments_lexer": "ipython3",
      "version": "3.8.13"
    },
    "orig_nbformat": 4
  },
  "nbformat": 4,
  "nbformat_minor": 0
}